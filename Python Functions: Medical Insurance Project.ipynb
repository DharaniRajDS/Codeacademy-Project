{
  "nbformat": 4,
  "nbformat_minor": 0,
  "metadata": {
    "colab": {
      "provenance": [],
      "authorship_tag": "ABX9TyMLbc3k5GSnS5bHp943eqZ/",
      "include_colab_link": true
    },
    "kernelspec": {
      "name": "python3",
      "display_name": "Python 3"
    },
    "language_info": {
      "name": "python"
    }
  },
  "cells": [
    {
      "cell_type": "markdown",
      "metadata": {
        "id": "view-in-github",
        "colab_type": "text"
      },
      "source": [
        "<a href=\"https://colab.research.google.com/github/DharaniRajDS/Codeacademy-Project/blob/main/Python%20Functions%3A%20Medical%20Insurance%20Project.ipynb\" target=\"_parent\"><img src=\"https://colab.research.google.com/assets/colab-badge.svg\" alt=\"Open In Colab\"/></a>"
      ]
    },
    {
      "cell_type": "markdown",
      "source": [
        "### **Python Functions: Medical Insurance Project**\n",
        "\n",
        "You are curious about how certain factors such as age, sex, BMI, number of children, and smoking status contribute to medical insurance costs.\n",
        "\n",
        "**Note**: while insurance companies do use BMI in their calculations, and that is reflected in this project, BMI is not necessarily an accurate predictor of health. As data scientists, we should always be skeptical of quantitative measures like BMI that reduce complex phenomena to a single number.\n",
        "\n",
        "You will apply your new knowledge of Python functions to write a useful function that calculates medical insurance costs.\n",
        "\n",
        "Let’s get started!\n",
        "\n",
        "**Tasks**\n",
        "\n",
        "13/13 complete\n",
        "\n",
        "Mark the tasks as complete by checking them off\n",
        "\n",
        "## **Creating a function**\n",
        "\n",
        "**1.**First, take a look at the code in **script.py**.\n",
        "\n",
        "In this code, we estimate the medical insurance costs for two individuals, Maria and Omar, based on five variables:\n",
        "\n",
        "- `age`: age of the individual in years\n",
        "- `sex`: 0 for female, 1 for male\n",
        "- `bmi`: individual’s body mass index\n",
        "- `num_of_children`: number of children the individual has\n",
        "- `smoker`: 0 for a non-smoker, 1 for a smoker\n",
        "\n"
      ],
      "metadata": {
        "id": "aPFqHvaGrOu5"
      }
    },
    {
      "cell_type": "code",
      "source": [
        "age = 28\n",
        "smoker = 0 # 1 if smoker 0 if not a smoker\n",
        "sex = 0 # 0 if female 1 if male\n",
        "num_of_children = 3\n",
        "bmi = 26.2"
      ],
      "metadata": {
        "id": "khqJt8Lq4QJB"
      },
      "execution_count": 1,
      "outputs": []
    },
    {
      "cell_type": "markdown",
      "source": [
        "These variables are used in the following formula to estimate an individual’s insurance cost (in USD):\n",
        "\n",
        "__insurance_cost=250 * age - 128 * sex + 370 * bmi + 425 * num_of_children + 24000 * smoker - 12500__"
      ],
      "metadata": {
        "id": "lYPPwnKF4ZVk"
      }
    },
    {
      "cell_type": "code",
      "execution_count": 2,
      "metadata": {
        "id": "DBBBStC_rFRx"
      },
      "outputs": [],
      "source": [
        "insurance_cost=250 * age - 128 * sex + 370 * bmi + 425 * num_of_children + 24000 * smoker - 12500"
      ]
    },
    {
      "cell_type": "markdown",
      "source": [
        "**2.**The code used to estimate insurance costs for Maria and Omar looks quite similar – in both cases we calculate the insurance cost using the same formula and then print the output.\n",
        "\n",
        "This code is a great candidate for a function because it involves repeating almost identical commands in multiple places.\n",
        "\n",
        "Let’s start by defining a function called `calculate_insurance_cost()` on line 2. For now, your function should not have any parameters or output.\n",
        "\n",
        "**Hint**\n",
        "\n",
        "The syntax for writing a Python function is as follows:"
      ],
      "metadata": {
        "id": "l_zbZCpssHhE"
      }
    },
    {
      "cell_type": "markdown",
      "source": [
        "**3.**Let’s outline the behavior we want our function to have. Inside of `calculate_insurance_cost()`, do the following:\n",
        "\n",
        "- Create a variable called `estimated_cost`. For now, set this variable equal to a value of `1000`. You’ll add the full formula in the next step.\n",
        "- Add a print statement that prints `estimated_cost`. You should output a message similar to: `\"The estimated insurance cost for this person is xxx dollars.\"`\n",
        "- Return `estimated_cost`\n"
      ],
      "metadata": {
        "id": "zCVqXhn7sOJR"
      }
    },
    {
      "cell_type": "code",
      "source": [
        "# from 2 & 3\n",
        "def calculate_insurance_cost():\n",
        "  estimated_cost = 1000\n",
        "  print(\"The estimated insurance cost for this person is \" + str(estimated_cost) + \" dollars.\")\n",
        "  return estimated_cost"
      ],
      "metadata": {
        "id": "ylrjwpZgsJIj"
      },
      "execution_count": 3,
      "outputs": []
    },
    {
      "cell_type": "markdown",
      "source": [
        "## **Adding parameters to a function**\n",
        "\n",
        "**4.**Nice job – you’ve created a simple Python function that we’ll use to estimate medical insurance costs.\n",
        "\n",
        "However, the function currently returns a value of `1000`. We want it to return our insurance cost formula instead.\n",
        "\n",
        "Modify the function definition so that it contains five parameters:\n",
        "\n",
        "- `age`\n",
        "- `sex`\n",
        "- `bmi`\n",
        "- `num_of_children`\n",
        "- `smoker`\n",
        "\n",
        "Take a look at the hint if you need a reminder on how to add parameters to a function definition.\n",
        "\n",
        "**Hint**\n",
        "\n",
        "The syntax for writing a Python function with parameters is as follows:"
      ],
      "metadata": {
        "id": "s7P9Txv2sTls"
      }
    },
    {
      "cell_type": "markdown",
      "source": [
        "**5.**Now that we have set up the function to take inputs for each of the values needed in the insurance formula, we can make use of them inside of our function.\n",
        "\n",
        "In `calculate_insurance_cost()`, change the value of `estimated_cost` from `1000` to our formula for insurance cost.\n",
        "\n",
        "Remember that the formula for insurance cost is:"
      ],
      "metadata": {
        "id": "JcRZ9kHisXqa"
      }
    },
    {
      "cell_type": "code",
      "source": [
        "# from 4 & 5\n",
        "# Create calculate_insurance_cost() function below:\n",
        "def calculate_insurance_cost(age, sex, bmi, num_of_children, smoker):\n",
        "  estimated_cost = 250*age - 128*sex + 370*bmi + 425*num_of_children + 24000*smoker - 12500\n",
        "  print(\"The estimated insurance cost is \" +str(estimated_cost)+ \" dollars.\")"
      ],
      "metadata": {
        "id": "bbKOOOsTsXQW"
      },
      "execution_count": 4,
      "outputs": []
    },
    {
      "cell_type": "markdown",
      "source": [
        "## **Calling a function**\n",
        "\n",
        "**6.**The function is now properly set up to calculate an individual’s medical insurance costs based on the five variables passed into it. Let’s test this out!\n",
        "\n",
        "Go to the section of code that estimates Maria’s insurance cost.\n",
        "\n",
        "Rename `insurance_cost` as `maria_insurance_cost` and set it equal to `calculate_insurance_cost()` with the appropriate values for `Maria` as arguments.\n",
        "\n",
        "**Hint**\n",
        "\n",
        "Change the following code for Maria:"
      ],
      "metadata": {
        "id": "i3p0_NtTsfUg"
      }
    },
    {
      "cell_type": "markdown",
      "source": [
        "**7.**Now, remove the print statement for Maria since our function will take care of printing the estimated cost for us.\n",
        "\n",
        "Additionally, remove the five lines of code defining the initial variables for Maria, as we are now passing in these values directly in the function call.\n",
        "\n",
        "**Hint**\n",
        "\n",
        "Remove this section from your code:"
      ],
      "metadata": {
        "id": "qRlxfB5VskDG"
      }
    },
    {
      "cell_type": "code",
      "source": [
        "maria_insurance_cost = calculate_insurance_cost(age =28, sex =0, bmi =26.2, num_of_children =3, smoker =0)"
      ],
      "metadata": {
        "id": "a1j_sdiAsgj8",
        "colab": {
          "base_uri": "https://localhost:8080/"
        },
        "outputId": "f798c0db-2cf5-495d-9475-ae622ef612c3"
      },
      "execution_count": 5,
      "outputs": [
        {
          "output_type": "stream",
          "name": "stdout",
          "text": [
            "The estimated insurance cost is 5469.0 dollars.\n"
          ]
        }
      ]
    },
    {
      "cell_type": "markdown",
      "source": [
        "**8.**Repeat steps 6-7 for Omar:\n",
        "\n",
        "- Rename `insurance_cost` as `omar_insurance_cost` and set it equal to the `calculate_insurance_cost()` function, passing in the appropriate values as arguments.\n",
        "- Remove the initial variables and print statement for Omar.\n",
        "\n",
        "Notice how much cleaner our code is now! By utilizing a Python function, we were able to condense many lines of code into just a few.\n",
        "\n",
        "**Hint**\n",
        "\n",
        "First, change the following code for Omar:"
      ],
      "metadata": {
        "id": "LmOWKGnUsoLu"
      }
    },
    {
      "cell_type": "code",
      "source": [
        "omar_insurance_cost =calculate_insurance_cost(age =35, sex =1, bmi =22.2, num_of_children =0, smoker =1)"
      ],
      "metadata": {
        "id": "q1FF_wZDspmt",
        "colab": {
          "base_uri": "https://localhost:8080/"
        },
        "outputId": "892a6cd8-2573-416d-b07c-5089eeea5822"
      },
      "execution_count": 6,
      "outputs": [
        {
          "output_type": "stream",
          "name": "stdout",
          "text": [
            "The estimated insurance cost is 28336.0 dollars.\n"
          ]
        }
      ]
    },
    {
      "cell_type": "markdown",
      "source": [
        "## **Adding new parameters**\n",
        "\n",
        "**9.**Click “Save” to see the estimated insurance costs for Maria and Omar as calculated by your function.\n",
        "\n",
        "In the output terminal, notice that it says `\"The estimated insurance cost for this person is...\"` but it does not specify the actual name of the person.\n",
        "\n",
        "To fix this, begin by adding an additional parameter called `name` to the function definition.\n",
        "\n",
        "**Hint**\n",
        "\n",
        "The updated function definition should look like:"
      ],
      "metadata": {
        "id": "j3P6eX8pstLw"
      }
    },
    {
      "cell_type": "markdown",
      "source": [
        "**10.**Next, modify the print statement in the function so that it includes the new `name` parameter, replacing `\"this person\"` with the actual name of the person.\n",
        "\n",
        "**Hint**\n",
        "\n",
        "Your function should now look like:"
      ],
      "metadata": {
        "id": "9JIo8zDJsw6W"
      }
    },
    {
      "cell_type": "code",
      "source": [
        "# from 9 & 10\n",
        "# Create calculate_insurance_cost() function below:\n",
        "def calculate_insurance_cost(name, age, sex, bmi, num_of_children, smoker):\n",
        "  estimated_cost = 250*age - 128*sex + 370*bmi + 425*num_of_children + 24000*smoker - 12500\n",
        "  print(\"The estimated insurance cost for \"+ str(name)+\" is \" +str(estimated_cost)+ \" dollars.\")"
      ],
      "metadata": {
        "id": "VDD9Q8nysuQx"
      },
      "execution_count": 7,
      "outputs": []
    },
    {
      "cell_type": "markdown",
      "source": [
        "**11.**We must also update our function calls, passing in the `name` variable as an argument.\n",
        "\n",
        "Update the function call for `maria_insurance_cost`, passing in `name = \"Maria\"` as an argument.\n",
        "\n",
        "Do the same for Omar, passing in `name = \"Omar\"`.\n",
        "\n",
        "Now if you click “Save”, you’ll see that our function is able to write a more personalized message specifying the name of the individual it is estimating insurance costs for. Pretty neat, right?\n",
        "\n",
        "**Hint**\n",
        "\n",
        "Your updated function calls should now look like:"
      ],
      "metadata": {
        "id": "2AcdI_Hds0v3"
      }
    },
    {
      "cell_type": "code",
      "source": [
        "# Estimate Maria's insurance cost\n",
        "maria_insurance_cost = calculate_insurance_cost(name = \"Maria\", age = 28, sex = 0, bmi = 26.2, num_of_children = 3, smoker = 0)\n",
        "\n",
        "# Estimate Omar's insurance cost\n",
        "omar_insurance_cost = calculate_insurance_cost(name = \"Omar\", age = 35, sex = 1, bmi = 22.2, num_of_children = 0, smoker = 0)"
      ],
      "metadata": {
        "id": "ROKXSLZ5s2HK",
        "colab": {
          "base_uri": "https://localhost:8080/"
        },
        "outputId": "f159eb35-7213-4d28-9a82-6bce9b8d6b4d"
      },
      "execution_count": 8,
      "outputs": [
        {
          "output_type": "stream",
          "name": "stdout",
          "text": [
            "The estimated insurance cost for Maria is 5469.0 dollars.\n",
            "The estimated insurance cost for Omar is 4336.0 dollars.\n"
          ]
        }
      ]
    },
    {
      "cell_type": "markdown",
      "source": [
        "## **Estimating your own insurance cost**\n",
        "\n",
        "**12.**In this example, we calculated the insurance costs for two individuals, but with our new code we can easily extend this to thousands or even millions of individuals.\n",
        "\n",
        "To illustrate, estimate your own insurance cost.\n",
        "\n",
        "At the bottom of your code, create a new insurance_cost variable for yourself, similar to how we did it for Maria and Omar.\n",
        "\n",
        "Set the variable equal to a function call to `calculate_insurance_cost()`, passing in your own name, age, sex, bmi, number of children, and smoker status.\n",
        "\n",
        "Click “Save” to see the result.\n",
        "\n",
        "**Hint**\n",
        "\n",
        "This should be identical to what we did for Maria and Omar, but you should input your own information.\n",
        "\n",
        "You can paste this code and change the variable name and inputs accordingly:"
      ],
      "metadata": {
        "id": "j33ZeFNvs5AH"
      }
    },
    {
      "cell_type": "code",
      "source": [
        "# Estimate Dharani Raj's insurance cost\n",
        "dharani_raj_cost = calculate_insurance_cost(name = \"Dharani Raj\", age = 25, sex = 1, bmi = 22.2, num_of_children = 0, smoker = 0)"
      ],
      "metadata": {
        "id": "ZwLwFh3-s6iS",
        "colab": {
          "base_uri": "https://localhost:8080/"
        },
        "outputId": "c5368d0b-0a34-4d7e-84aa-4ee4a400bba5"
      },
      "execution_count": 9,
      "outputs": [
        {
          "output_type": "stream",
          "name": "stdout",
          "text": [
            "The estimated insurance cost for Dharani Raj is 1836.0 dollars.\n"
          ]
        }
      ]
    },
    {
      "cell_type": "markdown",
      "source": [
        "## **Extra**\n",
        "\n",
        "**13.**Congratulations! In this project, you created a useful function that calculates medical insurance costs based on the values passed into the function. Great job!\n",
        "\n",
        "As a data scientist, you should always strive to make your code more clean and modular. Using functions to avoid repetitive code is a great way to do just that.\n",
        "\n",
        "Now it’s your turn! If you’d like extra practice with Python functions, here are some suggestions to get you started:\n",
        "\n",
        "- Modify the `calculate_insurance_cost()` function so that it returns two values – the output message and the estimated cost.\n",
        "- Create a second function to calculate the difference between the insurance costs (given as inputs) of any two individuals and print a statement saying: `\"The difference in insurance cost is xxx dollars.\"`\n",
        "\n",
        "Happy coding!"
      ],
      "metadata": {
        "id": "dlqrQUt4s-LG"
      }
    },
    {
      "cell_type": "code",
      "source": [
        "def calculate_insurance_cost(name, age, sex, bmi, num_of_children, smoker):\n",
        "    estimated_cost = 250 * age - 128 * sex + 370 * bmi + 425 * num_of_children + 24000 * smoker - 12500\n",
        "    output = f\"The estimated insurance cost for  {name}  is {estimated_cost} dollars.\"\n",
        "    return output, estimated_cost"
      ],
      "metadata": {
        "id": "bQ8xpLkh-FZv"
      },
      "execution_count": 10,
      "outputs": []
    },
    {
      "cell_type": "code",
      "source": [
        "# Estimate Dharani Raj's insurance cost\n",
        "dharani_raj_cost = calculate_insurance_cost(name = \"Dharani Raj\", age = 25, sex = 1, bmi = 22.2, num_of_children = 0, smoker = 0)\n",
        "print(dharani_raj_cost)"
      ],
      "metadata": {
        "colab": {
          "base_uri": "https://localhost:8080/"
        },
        "id": "ZqJxvqLH9a-c",
        "outputId": "4f6c9136-ccec-4eb5-f3db-5da8d2f65026"
      },
      "execution_count": 11,
      "outputs": [
        {
          "output_type": "stream",
          "name": "stdout",
          "text": [
            "('The estimated insurance cost for  Dharani Raj  is 1836.0 dollars.', 1836.0)\n"
          ]
        }
      ]
    },
    {
      "cell_type": "code",
      "source": [
        "def difference_in_insurance_cost(name1, insurance_cost1, name2, insurance_cost2):\n",
        "    difference = insurance_cost1 - insurance_cost2\n",
        "    output = f\"The difference in insurance cost between {name1} and {name2} is {difference} dollars.\"\n",
        "    return output"
      ],
      "metadata": {
        "id": "y4VV_PST9bfA"
      },
      "execution_count": 12,
      "outputs": []
    },
    {
      "cell_type": "code",
      "source": [
        "difference_cost = difference_in_insurance_cost(name1='Omar', insurance_cost1=4336.0, name2='dharani_raj', insurance_cost2=1836.0)\n",
        "\n",
        "print(difference_cost)"
      ],
      "metadata": {
        "colab": {
          "base_uri": "https://localhost:8080/"
        },
        "id": "uS_YOt8k_V5-",
        "outputId": "61e7a90a-229a-47ba-a889-8501af032527"
      },
      "execution_count": 13,
      "outputs": [
        {
          "output_type": "stream",
          "name": "stdout",
          "text": [
            "The difference in insurance cost between Omar and dharani_raj is 2500.0 dollars.\n"
          ]
        }
      ]
    }
  ]
}