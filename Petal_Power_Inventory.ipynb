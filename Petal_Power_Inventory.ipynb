{
  "nbformat": 4,
  "nbformat_minor": 0,
  "metadata": {
    "colab": {
      "provenance": []
    },
    "kernelspec": {
      "name": "python3",
      "display_name": "Python 3"
    },
    "language_info": {
      "name": "python"
    }
  },
  "cells": [
    {
      "cell_type": "markdown",
      "source": [
        "# **Petal Power Inventory**\n",
        "\n",
        "You’re the lead data analyst for a chain of gardening stores called Petal Power. Help them analyze their inventory!"
      ],
      "metadata": {
        "id": "WC6yITknlVHc"
      }
    },
    {
      "cell_type": "markdown",
      "source": [
        "## **Answer Customer Emails**\n",
        "\n",
        "**1.** Data for all of the locations of Petal Power is in the file `inventory.csv`. Load the data into a DataFrame called `inventory`.\n",
        "\n",
        "**2.** Inspect the first 10 rows of `inventory`.\n",
        "\n",
        "**3.** The first 10 rows represent data from your Staten Island location. Select these rows and save them to `staten_island`.\n",
        "\n",
        "**4.** A customer just emailed you asking what products are sold at your Staten Island location. Select the column `product_description` from `staten_island` and save it to the variable `product_request`.\n",
        "\n",
        "**5.** Another customer emails to ask what types of seeds are sold at the Brooklyn location.\n",
        "\n",
        "Select all rows where `location` is equal to `Brooklyn` and `product_type` is equal to `seeds` and save them to the variable `seed_request`.\n",
        "\n",
        "## **Inventory**\n",
        "\n",
        "**6.** Add a column to `inventory` called `in_stock` which is `True` if `quantity` is greater than 0 and `False` if `quantity` equals 0.\n",
        "\n",
        "**Hint**\n",
        "\n",
        "Remember that you can use an if statement as part of a lambda function.\n",
        "\n",
        "**7.** Petal Power wants to know how valuable their current inventory is.\n",
        "\n",
        "Create a column called `total_value` that is equal to `price` multiplied by `quantity`.\n",
        "\n",
        "**8.** The Marketing department wants a complete description of each product for their catalog.\n",
        "\n",
        "The following lambda function combines `product_type` and `product_description` into a single string:\n",
        "\n",
        "**9.** Using `combine_lambda`, create a new column in `inventory` called `full_description` that has the complete description of each product."
      ],
      "metadata": {
        "id": "Qbimzstbk83I"
      }
    },
    {
      "cell_type": "markdown",
      "source": [
        "# Answer Customer Emails\n",
        "1. Data for all of the locations of Petal Power is in the file inventory.csv. Load the data into a DataFrame called inventory."
      ],
      "metadata": {
        "id": "-wkh6AIPmZBg"
      }
    },
    {
      "cell_type": "code",
      "source": [
        "# importing the pandas\n",
        "import pandas as pd\n",
        "\n",
        "inventory = pd.read_csv('inventory.csv')"
      ],
      "metadata": {
        "id": "LmToGONJmflS"
      },
      "execution_count": 1,
      "outputs": []
    },
    {
      "cell_type": "markdown",
      "source": [
        "2. Inspect the first 10 rows of inventory."
      ],
      "metadata": {
        "id": "oyoP043XmeuE"
      }
    },
    {
      "cell_type": "code",
      "source": [
        "print(inventory.head(10))"
      ],
      "metadata": {
        "colab": {
          "base_uri": "https://localhost:8080/"
        },
        "id": "ZPUgzUPOmm5x",
        "outputId": "7727abd2-32a3-4b76-80f6-c59a57d25424"
      },
      "execution_count": 2,
      "outputs": [
        {
          "output_type": "stream",
          "name": "stdout",
          "text": [
            "        location  product_type         product_description  quantity  price\n",
            "0  Staten Island         seeds                       daisy         4   6.99\n",
            "1  Staten Island         seeds                  calla lily        46  19.99\n",
            "2  Staten Island         seeds                      tomato        85  13.99\n",
            "3  Staten Island  garden tools                        rake         4  13.99\n",
            "4  Staten Island  garden tools                 wheelbarrow         0  89.99\n",
            "5  Staten Island  garden tools                       spade        93  19.99\n",
            "6  Staten Island  pest_control               insect killer        74  12.99\n",
            "7  Staten Island  pest_control                 weed killer         8  23.99\n",
            "8  Staten Island       planter  20 inch terracotta planter         0  17.99\n",
            "9  Staten Island       planter      8 inch plastic planter        53   3.99\n"
          ]
        }
      ]
    },
    {
      "cell_type": "markdown",
      "source": [
        "3. The first 10 rows represent data from your Staten Island location. Select these rows and save them to staten_island."
      ],
      "metadata": {
        "id": "H9DpUwzBmtG5"
      }
    },
    {
      "cell_type": "code",
      "source": [
        "staten_island = inventory.head(10)\n",
        "print(staten_island)"
      ],
      "metadata": {
        "colab": {
          "base_uri": "https://localhost:8080/"
        },
        "id": "RoSiZPn0msi8",
        "outputId": "4557bf63-b598-43ce-c52c-c4aec4f3a651"
      },
      "execution_count": 3,
      "outputs": [
        {
          "output_type": "stream",
          "name": "stdout",
          "text": [
            "        location  product_type         product_description  quantity  price\n",
            "0  Staten Island         seeds                       daisy         4   6.99\n",
            "1  Staten Island         seeds                  calla lily        46  19.99\n",
            "2  Staten Island         seeds                      tomato        85  13.99\n",
            "3  Staten Island  garden tools                        rake         4  13.99\n",
            "4  Staten Island  garden tools                 wheelbarrow         0  89.99\n",
            "5  Staten Island  garden tools                       spade        93  19.99\n",
            "6  Staten Island  pest_control               insect killer        74  12.99\n",
            "7  Staten Island  pest_control                 weed killer         8  23.99\n",
            "8  Staten Island       planter  20 inch terracotta planter         0  17.99\n",
            "9  Staten Island       planter      8 inch plastic planter        53   3.99\n"
          ]
        }
      ]
    },
    {
      "cell_type": "markdown",
      "source": [
        "4. A customer just emailed you asking what products are sold at your Staten Island location. Select the column product_description from staten_island and save it to the variable product_request."
      ],
      "metadata": {
        "id": "ChdZ9WCsmwP8"
      }
    },
    {
      "cell_type": "code",
      "source": [
        "product_request = staten_island.product_description\n",
        "print(product_request)"
      ],
      "metadata": {
        "colab": {
          "base_uri": "https://localhost:8080/"
        },
        "id": "I2Be_5YAnrSX",
        "outputId": "97c18e3f-7155-467c-8399-0feedbe0b3c5"
      },
      "execution_count": 4,
      "outputs": [
        {
          "output_type": "stream",
          "name": "stdout",
          "text": [
            "0                         daisy\n",
            "1                    calla lily\n",
            "2                        tomato\n",
            "3                          rake\n",
            "4                   wheelbarrow\n",
            "5                         spade\n",
            "6                 insect killer\n",
            "7                   weed killer\n",
            "8    20 inch terracotta planter\n",
            "9        8 inch plastic planter\n",
            "Name: product_description, dtype: object\n"
          ]
        }
      ]
    },
    {
      "cell_type": "markdown",
      "source": [
        "5. Another customer emails to ask what types of seeds are sold at the Brooklyn location.\n",
        "\n",
        "Select all rows where location is equal to Brooklyn and product_type is equal to seeds and save them to the variable seed_request."
      ],
      "metadata": {
        "id": "wt65rAKAm0cS"
      }
    },
    {
      "cell_type": "code",
      "source": [
        "seed_request = inventory[(inventory.location == 'Brooklyn') & (inventory.product_type == 'seeds')]\n",
        "print(seed_request)"
      ],
      "metadata": {
        "colab": {
          "base_uri": "https://localhost:8080/"
        },
        "id": "FLjKMCtfn4mL",
        "outputId": "dac06d06-07e3-4170-8917-27f10a88075c"
      },
      "execution_count": 5,
      "outputs": [
        {
          "output_type": "stream",
          "name": "stdout",
          "text": [
            "    location product_type product_description  quantity  price\n",
            "10  Brooklyn        seeds               daisy        50   6.99\n",
            "11  Brooklyn        seeds          calla lily         0  19.99\n",
            "12  Brooklyn        seeds              tomato         0  13.99\n"
          ]
        }
      ]
    },
    {
      "cell_type": "markdown",
      "source": [
        "# Inventory\n",
        "6. Add a column to inventory called in_stock which is True if quantity is greater than 0 and False if quantity equals 0.\n",
        "\n",
        "Hint :\n",
        "Remember that you can use an if statement as part of a lambda function."
      ],
      "metadata": {
        "id": "PpTKVrs4m4Ff"
      }
    },
    {
      "cell_type": "code",
      "source": [
        "inventory['in_stock'] = inventory.quantity.apply(lambda x: 'True' if x > 0 else 'False')\n",
        "print(inventory.head(10))"
      ],
      "metadata": {
        "colab": {
          "base_uri": "https://localhost:8080/"
        },
        "id": "XsbHA4YxoWZN",
        "outputId": "48673b26-afad-48f4-c9fb-d14d68e26215"
      },
      "execution_count": 6,
      "outputs": [
        {
          "output_type": "stream",
          "name": "stdout",
          "text": [
            "        location  product_type         product_description  quantity  price  \\\n",
            "0  Staten Island         seeds                       daisy         4   6.99   \n",
            "1  Staten Island         seeds                  calla lily        46  19.99   \n",
            "2  Staten Island         seeds                      tomato        85  13.99   \n",
            "3  Staten Island  garden tools                        rake         4  13.99   \n",
            "4  Staten Island  garden tools                 wheelbarrow         0  89.99   \n",
            "5  Staten Island  garden tools                       spade        93  19.99   \n",
            "6  Staten Island  pest_control               insect killer        74  12.99   \n",
            "7  Staten Island  pest_control                 weed killer         8  23.99   \n",
            "8  Staten Island       planter  20 inch terracotta planter         0  17.99   \n",
            "9  Staten Island       planter      8 inch plastic planter        53   3.99   \n",
            "\n",
            "  in_stock  \n",
            "0     True  \n",
            "1     True  \n",
            "2     True  \n",
            "3     True  \n",
            "4    False  \n",
            "5     True  \n",
            "6     True  \n",
            "7     True  \n",
            "8    False  \n",
            "9     True  \n"
          ]
        }
      ]
    },
    {
      "cell_type": "markdown",
      "source": [
        "7. Petal Power wants to know how valuable their current inventory is.\n",
        "\n",
        "Create a column called total_value that is equal to price multiplied by quantit"
      ],
      "metadata": {
        "id": "04LKmbKHnEJW"
      }
    },
    {
      "cell_type": "code",
      "source": [
        "inventory['total_value'] = inventory.apply(lambda row: row.price * row.quantity, axis = 1)\n",
        "print(inventory.head(10))"
      ],
      "metadata": {
        "colab": {
          "base_uri": "https://localhost:8080/"
        },
        "id": "1mo2iL4govHe",
        "outputId": "fd997a0b-3227-486f-b737-7fafbba8d9c2"
      },
      "execution_count": 7,
      "outputs": [
        {
          "output_type": "stream",
          "name": "stdout",
          "text": [
            "        location  product_type         product_description  quantity  price  \\\n",
            "0  Staten Island         seeds                       daisy         4   6.99   \n",
            "1  Staten Island         seeds                  calla lily        46  19.99   \n",
            "2  Staten Island         seeds                      tomato        85  13.99   \n",
            "3  Staten Island  garden tools                        rake         4  13.99   \n",
            "4  Staten Island  garden tools                 wheelbarrow         0  89.99   \n",
            "5  Staten Island  garden tools                       spade        93  19.99   \n",
            "6  Staten Island  pest_control               insect killer        74  12.99   \n",
            "7  Staten Island  pest_control                 weed killer         8  23.99   \n",
            "8  Staten Island       planter  20 inch terracotta planter         0  17.99   \n",
            "9  Staten Island       planter      8 inch plastic planter        53   3.99   \n",
            "\n",
            "  in_stock  total_value  \n",
            "0     True        27.96  \n",
            "1     True       919.54  \n",
            "2     True      1189.15  \n",
            "3     True        55.96  \n",
            "4    False         0.00  \n",
            "5     True      1859.07  \n",
            "6     True       961.26  \n",
            "7     True       191.92  \n",
            "8    False         0.00  \n",
            "9     True       211.47  \n"
          ]
        }
      ]
    },
    {
      "cell_type": "markdown",
      "source": [
        "8. The Marketing department wants a complete description of each product for their catalog.\n",
        "\n",
        "The following lambda function combines product_type and product_description into a single string:"
      ],
      "metadata": {
        "id": "mMhAi1cXnGax"
      }
    },
    {
      "cell_type": "code",
      "source": [
        "combine_lambda = lambda row: \\\n",
        "    '{} - {}'.format(row.product_type,\n",
        "                     row.product_description)"
      ],
      "metadata": {
        "id": "V0WcZKaAo4W5"
      },
      "execution_count": 8,
      "outputs": []
    },
    {
      "cell_type": "markdown",
      "source": [
        "9. Using combine_lambda, create a new column in inventory called full_description that has the complete description of each product."
      ],
      "metadata": {
        "id": "2I_hCH_ZnJBV"
      }
    },
    {
      "cell_type": "code",
      "source": [
        "inventory['full_description'] = inventory.apply(combine_lambda, axis=1)\n",
        "print(inventory.head(10))"
      ],
      "metadata": {
        "colab": {
          "base_uri": "https://localhost:8080/"
        },
        "id": "sa9rbLcupQ8b",
        "outputId": "6acc7f00-907c-43c0-f9b4-192031b82a4d"
      },
      "execution_count": 9,
      "outputs": [
        {
          "output_type": "stream",
          "name": "stdout",
          "text": [
            "        location  product_type         product_description  quantity  price  \\\n",
            "0  Staten Island         seeds                       daisy         4   6.99   \n",
            "1  Staten Island         seeds                  calla lily        46  19.99   \n",
            "2  Staten Island         seeds                      tomato        85  13.99   \n",
            "3  Staten Island  garden tools                        rake         4  13.99   \n",
            "4  Staten Island  garden tools                 wheelbarrow         0  89.99   \n",
            "5  Staten Island  garden tools                       spade        93  19.99   \n",
            "6  Staten Island  pest_control               insect killer        74  12.99   \n",
            "7  Staten Island  pest_control                 weed killer         8  23.99   \n",
            "8  Staten Island       planter  20 inch terracotta planter         0  17.99   \n",
            "9  Staten Island       planter      8 inch plastic planter        53   3.99   \n",
            "\n",
            "  in_stock  total_value                      full_description  \n",
            "0     True        27.96                         seeds - daisy  \n",
            "1     True       919.54                    seeds - calla lily  \n",
            "2     True      1189.15                        seeds - tomato  \n",
            "3     True        55.96                   garden tools - rake  \n",
            "4    False         0.00            garden tools - wheelbarrow  \n",
            "5     True      1859.07                  garden tools - spade  \n",
            "6     True       961.26          pest_control - insect killer  \n",
            "7     True       191.92            pest_control - weed killer  \n",
            "8    False         0.00  planter - 20 inch terracotta planter  \n",
            "9     True       211.47      planter - 8 inch plastic planter  \n"
          ]
        }
      ]
    },
    {
      "cell_type": "code",
      "execution_count": 10,
      "metadata": {
        "colab": {
          "base_uri": "https://localhost:8080/"
        },
        "id": "SmIUqp1LkoFC",
        "outputId": "70bbf790-f66e-4d7b-9686-cfb819d23fe4"
      },
      "outputs": [
        {
          "output_type": "stream",
          "name": "stdout",
          "text": [
            "        location  product_type         product_description  quantity  price\n",
            "0  Staten Island         seeds                       daisy         4   6.99\n",
            "1  Staten Island         seeds                  calla lily        46  19.99\n",
            "2  Staten Island         seeds                      tomato        85  13.99\n",
            "3  Staten Island  garden tools                        rake         4  13.99\n",
            "4  Staten Island  garden tools                 wheelbarrow         0  89.99\n",
            "5  Staten Island  garden tools                       spade        93  19.99\n",
            "6  Staten Island  pest_control               insect killer        74  12.99\n",
            "7  Staten Island  pest_control                 weed killer         8  23.99\n",
            "8  Staten Island       planter  20 inch terracotta planter         0  17.99\n",
            "9  Staten Island       planter      8 inch plastic planter        53   3.99\n",
            "        location  product_type         product_description  quantity  price  \\\n",
            "0  Staten Island         seeds                       daisy         4   6.99   \n",
            "1  Staten Island         seeds                  calla lily        46  19.99   \n",
            "2  Staten Island         seeds                      tomato        85  13.99   \n",
            "3  Staten Island  garden tools                        rake         4  13.99   \n",
            "4  Staten Island  garden tools                 wheelbarrow         0  89.99   \n",
            "5  Staten Island  garden tools                       spade        93  19.99   \n",
            "6  Staten Island  pest_control               insect killer        74  12.99   \n",
            "7  Staten Island  pest_control                 weed killer         8  23.99   \n",
            "8  Staten Island       planter  20 inch terracotta planter         0  17.99   \n",
            "9  Staten Island       planter      8 inch plastic planter        53   3.99   \n",
            "\n",
            "  in_stock  total_value                      full_description  \n",
            "0     True        27.96                         seeds - daisy  \n",
            "1     True       919.54                    seeds - calla lily  \n",
            "2     True      1189.15                        seeds - tomato  \n",
            "3     True        55.96                   garden tools - rake  \n",
            "4    False         0.00            garden tools - wheelbarrow  \n",
            "5     True      1859.07                  garden tools - spade  \n",
            "6     True       961.26          pest_control - insect killer  \n",
            "7     True       191.92            pest_control - weed killer  \n",
            "8    False         0.00  planter - 20 inch terracotta planter  \n",
            "9     True       211.47      planter - 8 inch plastic planter  \n"
          ]
        }
      ],
      "source": [
        "# importing the pandas\n",
        "import pandas as pd\n",
        "\n",
        "# 1 load the data into a DataFrame called inventory\n",
        "inventory = pd.read_csv('inventory.csv')\n",
        "\n",
        "# 2 inspecting the first 10 rows\n",
        "print(inventory.head(10))\n",
        "staten_island = inventory.head(10)\n",
        "product_request = staten_island.product_description\n",
        "seed_request = inventory[(inventory.location == 'Brooklyn') & (inventory.product_type == 'seeds')]\n",
        "inventory['in_stock'] = inventory.quantity.apply(lambda x: 'True' if x > 0 else 'False')\n",
        "inventory['total_value'] = inventory.apply(lambda row: row.price * row.quantity, axis = 1)\n",
        "combine_lambda = lambda row: \\\n",
        "    '{} - {}'.format(row.product_type,\n",
        "                     row.product_description)\n",
        "inventory['full_description'] = inventory.apply(combine_lambda, axis=1)\n",
        "print(inventory.head(10))"
      ]
    }
  ]
}