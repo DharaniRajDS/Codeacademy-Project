{
  "nbformat": 4,
  "nbformat_minor": 0,
  "metadata": {
    "colab": {
      "provenance": []
    },
    "kernelspec": {
      "name": "python3",
      "display_name": "Python 3"
    },
    "language_info": {
      "name": "python"
    }
  },
  "cells": [
    {
      "cell_type": "markdown",
      "source": [
        "# **A/B Testing for ShoeFly.com**\n",
        "\n",
        "Our favorite online shoe store, ShoeFly.com is performing an A/B Test. They have two different versions of an ad, which they have placed in emails, as well as in banner ads on Facebook, Twitter, and Google. They want to know how the two ads are performing on each of the different platforms on each day of the week. Help them analyze the data using aggregate measures."
      ],
      "metadata": {
        "id": "jMWnmGn5rKWz"
      }
    },
    {
      "cell_type": "markdown",
      "source": [
        "## **Analyzing Ad Sources**"
      ],
      "metadata": {
        "id": "LcPnfBhKPd15"
      }
    },
    {
      "cell_type": "markdown",
      "source": [
        "\n",
        "1. Examine the first few rows of `ad_clicks`."
      ],
      "metadata": {
        "id": "TaVbwc0GPV5-"
      }
    },
    {
      "cell_type": "code",
      "source": [
        "import pandas as pd\n",
        "\n",
        "ad_clicks = pd.read_csv('ad_clicks.csv')\n",
        "print(ad_clicks.head())"
      ],
      "metadata": {
        "colab": {
          "base_uri": "https://localhost:8080/"
        },
        "id": "lzmrPWlRPqiG",
        "outputId": "ef360410-cf96-45f8-884e-c642397d58a8"
      },
      "execution_count": 1,
      "outputs": [
        {
          "output_type": "stream",
          "name": "stdout",
          "text": [
            "                                user_id utm_source           day  \\\n",
            "0  008b7c6c-7272-471e-b90e-930d548bd8d7     google  6 - Saturday   \n",
            "1  009abb94-5e14-4b6c-bb1c-4f4df7aa7557   facebook    7 - Sunday   \n",
            "2  00f5d532-ed58-4570-b6d2-768df5f41aed    twitter   2 - Tuesday   \n",
            "3  011adc64-0f44-4fd9-a0bb-f1506d2ad439     google   2 - Tuesday   \n",
            "4  012137e6-7ae7-4649-af68-205b4702169c   facebook    7 - Sunday   \n",
            "\n",
            "  ad_click_timestamp experimental_group  \n",
            "0               7:18                  A  \n",
            "1                NaN                  B  \n",
            "2                NaN                  A  \n",
            "3                NaN                  B  \n",
            "4                NaN                  B  \n"
          ]
        }
      ]
    },
    {
      "cell_type": "markdown",
      "source": [
        "\n",
        "2. Your manager wants to know which ad platform is getting you the most views.\n",
        "\n",
        "How many views (i.e., rows of the table) came from each `utm_source`?"
      ],
      "metadata": {
        "id": "cyfTLsMvP1U5"
      }
    },
    {
      "cell_type": "code",
      "source": [
        "ad_clicks.groupby('utm_source')\\\n",
        "    .user_id.count()\\\n",
        "    .reset_index()"
      ],
      "metadata": {
        "colab": {
          "base_uri": "https://localhost:8080/",
          "height": 175
        },
        "id": "d6VPBSPkQtuT",
        "outputId": "d671eeab-9c63-43dc-a0b4-06e4ad1dcaa8"
      },
      "execution_count": 2,
      "outputs": [
        {
          "output_type": "execute_result",
          "data": {
            "text/plain": [
              "  utm_source  user_id\n",
              "0      email      255\n",
              "1   facebook      504\n",
              "2     google      680\n",
              "3    twitter      215"
            ],
            "text/html": [
              "\n",
              "  <div id=\"df-b14d6abf-5275-4aeb-bc66-54c6aee2d713\" class=\"colab-df-container\">\n",
              "    <div>\n",
              "<style scoped>\n",
              "    .dataframe tbody tr th:only-of-type {\n",
              "        vertical-align: middle;\n",
              "    }\n",
              "\n",
              "    .dataframe tbody tr th {\n",
              "        vertical-align: top;\n",
              "    }\n",
              "\n",
              "    .dataframe thead th {\n",
              "        text-align: right;\n",
              "    }\n",
              "</style>\n",
              "<table border=\"1\" class=\"dataframe\">\n",
              "  <thead>\n",
              "    <tr style=\"text-align: right;\">\n",
              "      <th></th>\n",
              "      <th>utm_source</th>\n",
              "      <th>user_id</th>\n",
              "    </tr>\n",
              "  </thead>\n",
              "  <tbody>\n",
              "    <tr>\n",
              "      <th>0</th>\n",
              "      <td>email</td>\n",
              "      <td>255</td>\n",
              "    </tr>\n",
              "    <tr>\n",
              "      <th>1</th>\n",
              "      <td>facebook</td>\n",
              "      <td>504</td>\n",
              "    </tr>\n",
              "    <tr>\n",
              "      <th>2</th>\n",
              "      <td>google</td>\n",
              "      <td>680</td>\n",
              "    </tr>\n",
              "    <tr>\n",
              "      <th>3</th>\n",
              "      <td>twitter</td>\n",
              "      <td>215</td>\n",
              "    </tr>\n",
              "  </tbody>\n",
              "</table>\n",
              "</div>\n",
              "    <div class=\"colab-df-buttons\">\n",
              "      \n",
              "  <div class=\"colab-df-container\">\n",
              "    <button class=\"colab-df-convert\" onclick=\"convertToInteractive('df-b14d6abf-5275-4aeb-bc66-54c6aee2d713')\"\n",
              "            title=\"Convert this dataframe to an interactive table.\"\n",
              "            style=\"display:none;\">\n",
              "      \n",
              "  <svg xmlns=\"http://www.w3.org/2000/svg\" height=\"24px\" viewBox=\"0 -960 960 960\">\n",
              "    <path d=\"M120-120v-720h720v720H120Zm60-500h600v-160H180v160Zm220 220h160v-160H400v160Zm0 220h160v-160H400v160ZM180-400h160v-160H180v160Zm440 0h160v-160H620v160ZM180-180h160v-160H180v160Zm440 0h160v-160H620v160Z\"/>\n",
              "  </svg>\n",
              "    </button>\n",
              "    \n",
              "  <style>\n",
              "    .colab-df-container {\n",
              "      display:flex;\n",
              "      gap: 12px;\n",
              "    }\n",
              "\n",
              "    .colab-df-convert {\n",
              "      background-color: #E8F0FE;\n",
              "      border: none;\n",
              "      border-radius: 50%;\n",
              "      cursor: pointer;\n",
              "      display: none;\n",
              "      fill: #1967D2;\n",
              "      height: 32px;\n",
              "      padding: 0 0 0 0;\n",
              "      width: 32px;\n",
              "    }\n",
              "\n",
              "    .colab-df-convert:hover {\n",
              "      background-color: #E2EBFA;\n",
              "      box-shadow: 0px 1px 2px rgba(60, 64, 67, 0.3), 0px 1px 3px 1px rgba(60, 64, 67, 0.15);\n",
              "      fill: #174EA6;\n",
              "    }\n",
              "\n",
              "    .colab-df-buttons div {\n",
              "      margin-bottom: 4px;\n",
              "    }\n",
              "\n",
              "    [theme=dark] .colab-df-convert {\n",
              "      background-color: #3B4455;\n",
              "      fill: #D2E3FC;\n",
              "    }\n",
              "\n",
              "    [theme=dark] .colab-df-convert:hover {\n",
              "      background-color: #434B5C;\n",
              "      box-shadow: 0px 1px 3px 1px rgba(0, 0, 0, 0.15);\n",
              "      filter: drop-shadow(0px 1px 2px rgba(0, 0, 0, 0.3));\n",
              "      fill: #FFFFFF;\n",
              "    }\n",
              "  </style>\n",
              "\n",
              "    <script>\n",
              "      const buttonEl =\n",
              "        document.querySelector('#df-b14d6abf-5275-4aeb-bc66-54c6aee2d713 button.colab-df-convert');\n",
              "      buttonEl.style.display =\n",
              "        google.colab.kernel.accessAllowed ? 'block' : 'none';\n",
              "\n",
              "      async function convertToInteractive(key) {\n",
              "        const element = document.querySelector('#df-b14d6abf-5275-4aeb-bc66-54c6aee2d713');\n",
              "        const dataTable =\n",
              "          await google.colab.kernel.invokeFunction('convertToInteractive',\n",
              "                                                    [key], {});\n",
              "        if (!dataTable) return;\n",
              "\n",
              "        const docLinkHtml = 'Like what you see? Visit the ' +\n",
              "          '<a target=\"_blank\" href=https://colab.research.google.com/notebooks/data_table.ipynb>data table notebook</a>'\n",
              "          + ' to learn more about interactive tables.';\n",
              "        element.innerHTML = '';\n",
              "        dataTable['output_type'] = 'display_data';\n",
              "        await google.colab.output.renderOutput(dataTable, element);\n",
              "        const docLink = document.createElement('div');\n",
              "        docLink.innerHTML = docLinkHtml;\n",
              "        element.appendChild(docLink);\n",
              "      }\n",
              "    </script>\n",
              "  </div>\n",
              "  \n",
              "    </div>\n",
              "  </div>\n",
              "  "
            ]
          },
          "metadata": {},
          "execution_count": 2
        }
      ]
    },
    {
      "cell_type": "markdown",
      "source": [
        "3. If the column `ad_click_timestamp` is not null, then someone actually clicked on the ad that was displayed.\n",
        "\n",
        "Create a new column called `is_click`, which is True if `ad_click_timestamp` is not null and `False` otherwise.\n",
        "\n",
        "Note:\n",
        "\n",
        "The `~` is a NOT operator, and `isnull()` tests whether or not the value of `ad_click_timestamp` is null."
      ],
      "metadata": {
        "id": "57S4jg7HP81R"
      }
    },
    {
      "cell_type": "code",
      "source": [
        "ad_clicks['is_click'] = ~ad_clicks\\\n",
        "   .ad_click_timestamp.isnull()\n",
        "print(ad_clicks)"
      ],
      "metadata": {
        "colab": {
          "base_uri": "https://localhost:8080/"
        },
        "id": "vrYVYrrlREC8",
        "outputId": "f5a232c6-f277-4134-e8b7-99679aa8881a"
      },
      "execution_count": 3,
      "outputs": [
        {
          "output_type": "stream",
          "name": "stdout",
          "text": [
            "                                   user_id utm_source            day  \\\n",
            "0     008b7c6c-7272-471e-b90e-930d548bd8d7     google   6 - Saturday   \n",
            "1     009abb94-5e14-4b6c-bb1c-4f4df7aa7557   facebook     7 - Sunday   \n",
            "2     00f5d532-ed58-4570-b6d2-768df5f41aed    twitter    2 - Tuesday   \n",
            "3     011adc64-0f44-4fd9-a0bb-f1506d2ad439     google    2 - Tuesday   \n",
            "4     012137e6-7ae7-4649-af68-205b4702169c   facebook     7 - Sunday   \n",
            "...                                    ...        ...            ...   \n",
            "1649  fe8b5236-78f6-4192-9da6-a76bba67cfe6    twitter     7 - Sunday   \n",
            "1650  fed3db6d-8c92-40e3-a4fb-1fb9d7337eb1   facebook     5 - Friday   \n",
            "1651  ff3a22ff-521c-478c-87ca-7dc7b8f34372    twitter  3 - Wednesday   \n",
            "1652  ff3af0d6-b092-4c4d-9f2e-2bdd8f7c0732     google     1 - Monday   \n",
            "1653  ffdfe7ec-0c74-4623-8d90-d95d80f1ba34   facebook   6 - Saturday   \n",
            "\n",
            "     ad_click_timestamp experimental_group  is_click  \n",
            "0                  7:18                  A      True  \n",
            "1                   NaN                  B     False  \n",
            "2                   NaN                  A     False  \n",
            "3                   NaN                  B     False  \n",
            "4                   NaN                  B     False  \n",
            "...                 ...                ...       ...  \n",
            "1649                NaN                  A     False  \n",
            "1650                NaN                  B     False  \n",
            "1651                NaN                  B     False  \n",
            "1652              22:57                  A      True  \n",
            "1653                NaN                  B     False  \n",
            "\n",
            "[1654 rows x 6 columns]\n"
          ]
        }
      ]
    },
    {
      "cell_type": "markdown",
      "source": [
        "4. We want to know the percent of people who clicked on ads from each `utm_source`.\n",
        "\n",
        "Start by grouping by `utm_source` and `is_click` and counting the number of `user_id`‘s in each of those groups. Save your answer to the variable `clicks_by_source`.\n"
      ],
      "metadata": {
        "id": "XKcbJrg_QALa"
      }
    },
    {
      "cell_type": "code",
      "source": [
        "clicks_by_source = ad_clicks\\\n",
        "   .groupby(['utm_source',\n",
        "             'is_click'])\\\n",
        "   .user_id.count()\\\n",
        "   .reset_index()\n",
        "print(clicks_by_source)"
      ],
      "metadata": {
        "colab": {
          "base_uri": "https://localhost:8080/"
        },
        "id": "WRhuNFjHRIsV",
        "outputId": "ccd3c173-808b-4e38-87c7-c74b8a19a541"
      },
      "execution_count": 4,
      "outputs": [
        {
          "output_type": "stream",
          "name": "stdout",
          "text": [
            "  utm_source  is_click  user_id\n",
            "0      email     False      175\n",
            "1      email      True       80\n",
            "2   facebook     False      324\n",
            "3   facebook      True      180\n",
            "4     google     False      441\n",
            "5     google      True      239\n",
            "6    twitter     False      149\n",
            "7    twitter      True       66\n"
          ]
        }
      ]
    },
    {
      "cell_type": "markdown",
      "source": [
        "5. Now let’s pivot the data so that the columns are `is_click` (either `True` or `False`), the index is `utm_source`, and the values are `user_id`.\n",
        "\n",
        "Save your results to the variable `clicks_pivot`.\n"
      ],
      "metadata": {
        "id": "MU5_yZN_QEQn"
      }
    },
    {
      "cell_type": "code",
      "source": [
        "clicks_pivot = clicks_by_source\\\n",
        "   .pivot(index='utm_source',\n",
        "          columns='is_click',\n",
        "          values='user_id')\\\n",
        "   .reset_index()\n"
      ],
      "metadata": {
        "id": "5cRR83chRRPt"
      },
      "execution_count": 5,
      "outputs": []
    },
    {
      "cell_type": "markdown",
      "source": [
        "6. Create a new column in `clicks_pivot` called `percent_clicked` which is equal to the percent of users who clicked on the ad from each `utm_source`.\n",
        "\n",
        "Was there a difference in click rates for each source?\n",
        "\n",
        "`clicks_pivot[True]` is the number of people who clicked (because `is_click` was `True` for those users)\n",
        "\n",
        "`clicks_pivot[False]` is the number of people who did not click (because `is_click` was `False` for those users)\n",
        "\n",
        "So, the percent of people who clicked would be (Total Who Clicked) / (Total Who Clicked + Total Who Did Not Click)"
      ],
      "metadata": {
        "id": "XweiXbSFQIgf"
      }
    },
    {
      "cell_type": "code",
      "source": [
        "clicks_pivot['percent_clicked'] = \\\n",
        "   clicks_pivot[True] / \\\n",
        "   (clicks_pivot[True] +\n",
        "    clicks_pivot[False])\n",
        "print(clicks_pivot)"
      ],
      "metadata": {
        "colab": {
          "base_uri": "https://localhost:8080/"
        },
        "id": "x9pUY1w7RcD5",
        "outputId": "a183fff5-85f3-437b-b9d2-03a8e4e881ed"
      },
      "execution_count": 6,
      "outputs": [
        {
          "output_type": "stream",
          "name": "stdout",
          "text": [
            "is_click utm_source  False  True  percent_clicked\n",
            "0             email    175    80         0.313725\n",
            "1          facebook    324   180         0.357143\n",
            "2            google    441   239         0.351471\n",
            "3           twitter    149    66         0.306977\n"
          ]
        }
      ]
    },
    {
      "cell_type": "markdown",
      "source": [
        "## **Analyzing an A/B Test**"
      ],
      "metadata": {
        "id": "36ZZBVxFQLpZ"
      }
    },
    {
      "cell_type": "markdown",
      "source": [
        "7. The column `experimental_group` tells us whether the user was shown Ad A or Ad B.\n",
        "\n",
        "Were approximately the same number of people shown both ads?\n",
        "\n",
        "**Hint**\n",
        "\n",
        "We can group by `experimental_group` and count the number of users."
      ],
      "metadata": {
        "id": "AgoZL31rQOcz"
      }
    },
    {
      "cell_type": "code",
      "source": [
        "print(ad_clicks.groupby('experimental_group').user_id.count().reset_index())"
      ],
      "metadata": {
        "colab": {
          "base_uri": "https://localhost:8080/"
        },
        "id": "GEQXV6usRnTK",
        "outputId": "4c2f5c5f-622d-41a9-e4c3-88be59a5b517"
      },
      "execution_count": 7,
      "outputs": [
        {
          "output_type": "stream",
          "name": "stdout",
          "text": [
            "  experimental_group  user_id\n",
            "0                  A      827\n",
            "1                  B      827\n"
          ]
        }
      ]
    },
    {
      "cell_type": "markdown",
      "source": [
        "8. Using the column `is_click` that we defined earlier, check to see if a greater percentage of users clicked on Ad A or Ad B.\n",
        "\n",
        "**Hint**\n",
        "\n",
        "Group by both `experimental_group` and `is_click` and count the number of `user_id`‘s.\n",
        "\n",
        "You might want to use a pivot table like we did for the `utm_source` exercises.\n"
      ],
      "metadata": {
        "id": "G9PHVBqiQSfz"
      }
    },
    {
      "cell_type": "code",
      "source": [
        "print(ad_clicks.groupby(['experimental_group', 'is_click']).user_id.count().reset_index().pivot(index='experimental_group', columns='is_click', values='user_id').reset_index())"
      ],
      "metadata": {
        "colab": {
          "base_uri": "https://localhost:8080/"
        },
        "id": "DxMaOpynRr2J",
        "outputId": "e1029b47-1227-4b2f-bd84-7c0bb971fec2"
      },
      "execution_count": 8,
      "outputs": [
        {
          "output_type": "stream",
          "name": "stdout",
          "text": [
            "is_click experimental_group  False  True\n",
            "0                         A    517   310\n",
            "1                         B    572   255\n"
          ]
        }
      ]
    },
    {
      "cell_type": "markdown",
      "source": [
        "9. The Product Manager for the A/B test thinks that the clicks might have changed by day of the week.\n",
        "\n",
        "Start by creating two DataFrames: `a_clicks` and `b_clicks`, which contain only the results for `A` group and `B` group, respectively.\n"
      ],
      "metadata": {
        "id": "_Kh70x7pQZQW"
      }
    },
    {
      "cell_type": "code",
      "source": [
        "a_clicks = ad_clicks[ad_clicks.experimental_group == 'A']\n",
        "b_clicks = ad_clicks[ad_clicks.experimental_group == 'B']"
      ],
      "metadata": {
        "id": "fbXkjPvSRxGf"
      },
      "execution_count": 9,
      "outputs": []
    },
    {
      "cell_type": "markdown",
      "source": [
        "\n",
        "10. For each group (`a_clicks` and `b_clicks`), calculate the percent of users who clicked on the ad by `day`.\n",
        "\n",
        "**Hint**\n",
        "\n",
        "First, group by `is_click` and `day`. Next, pivot the data so that the columns are based on `is_click`. Finally, calculate the percent of people who clicked on the ad."
      ],
      "metadata": {
        "id": "-Nws0iOkQdZC"
      }
    },
    {
      "cell_type": "code",
      "source": [
        "a_clicks_pivot = a_clicks.groupby(['is_click', 'day']).user_id.count().reset_index().pivot(index='day', columns='is_click', values='user_id').reset_index()\n",
        "\n",
        "b_clicks_pivot = b_clicks.groupby(['is_click', 'day']).user_id.count().reset_index().pivot(index='day', columns='is_click', values='user_id').reset_index()"
      ],
      "metadata": {
        "id": "A3LXwiAsR3SM"
      },
      "execution_count": 10,
      "outputs": []
    },
    {
      "cell_type": "markdown",
      "source": [
        "11. Compare the results for `A` and `B`. What happened over the course of the week?\n",
        "\n",
        "Do you recommend that your company use Ad A or Ad B?"
      ],
      "metadata": {
        "id": "-rg6uK4wqzgC"
      }
    },
    {
      "cell_type": "code",
      "source": [
        "a_clicks_pivot['percent_clicked'] = a_clicks_pivot[True] / (a_clicks_pivot[True] + a_clicks_pivot[False])\n",
        "\n",
        "print(a_clicks_pivot)\n",
        "\n",
        "b_clicks_pivot['percent_clicked'] = b_clicks_pivot[True] / (b_clicks_pivot[True] + b_clicks_pivot[False])\n",
        "\n",
        "print(b_clicks_pivot)"
      ],
      "metadata": {
        "colab": {
          "base_uri": "https://localhost:8080/"
        },
        "id": "qgSUQYbAR-6t",
        "outputId": "fc33ca0d-1bb9-46d3-98aa-3fd43e30194c"
      },
      "execution_count": 11,
      "outputs": [
        {
          "output_type": "stream",
          "name": "stdout",
          "text": [
            "is_click            day  False  True  percent_clicked\n",
            "0            1 - Monday     70    43         0.380531\n",
            "1           2 - Tuesday     76    43         0.361345\n",
            "2         3 - Wednesday     86    38         0.306452\n",
            "3          4 - Thursday     69    47         0.405172\n",
            "4            5 - Friday     77    51         0.398438\n",
            "5          6 - Saturday     73    45         0.381356\n",
            "6            7 - Sunday     66    43         0.394495\n",
            "is_click            day  False  True  percent_clicked\n",
            "0            1 - Monday     81    32         0.283186\n",
            "1           2 - Tuesday     74    45         0.378151\n",
            "2         3 - Wednesday     89    35         0.282258\n",
            "3          4 - Thursday     87    29         0.250000\n",
            "4            5 - Friday     90    38         0.296875\n",
            "5          6 - Saturday     76    42         0.355932\n",
            "6            7 - Sunday     75    34         0.311927\n"
          ]
        }
      ]
    },
    {
      "cell_type": "code",
      "execution_count": 12,
      "metadata": {
        "id": "ILkN05q3qfC0",
        "colab": {
          "base_uri": "https://localhost:8080/"
        },
        "outputId": "87a336ee-784d-45c0-cea3-98af76c9b649"
      },
      "outputs": [
        {
          "output_type": "stream",
          "name": "stdout",
          "text": [
            "                                user_id utm_source           day  \\\n",
            "0  008b7c6c-7272-471e-b90e-930d548bd8d7     google  6 - Saturday   \n",
            "1  009abb94-5e14-4b6c-bb1c-4f4df7aa7557   facebook    7 - Sunday   \n",
            "2  00f5d532-ed58-4570-b6d2-768df5f41aed    twitter   2 - Tuesday   \n",
            "3  011adc64-0f44-4fd9-a0bb-f1506d2ad439     google   2 - Tuesday   \n",
            "4  012137e6-7ae7-4649-af68-205b4702169c   facebook    7 - Sunday   \n",
            "\n",
            "  ad_click_timestamp experimental_group  \n",
            "0               7:18                  A  \n",
            "1                NaN                  B  \n",
            "2                NaN                  A  \n",
            "3                NaN                  B  \n",
            "4                NaN                  B  \n",
            "                                   user_id utm_source            day  \\\n",
            "0     008b7c6c-7272-471e-b90e-930d548bd8d7     google   6 - Saturday   \n",
            "1     009abb94-5e14-4b6c-bb1c-4f4df7aa7557   facebook     7 - Sunday   \n",
            "2     00f5d532-ed58-4570-b6d2-768df5f41aed    twitter    2 - Tuesday   \n",
            "3     011adc64-0f44-4fd9-a0bb-f1506d2ad439     google    2 - Tuesday   \n",
            "4     012137e6-7ae7-4649-af68-205b4702169c   facebook     7 - Sunday   \n",
            "...                                    ...        ...            ...   \n",
            "1649  fe8b5236-78f6-4192-9da6-a76bba67cfe6    twitter     7 - Sunday   \n",
            "1650  fed3db6d-8c92-40e3-a4fb-1fb9d7337eb1   facebook     5 - Friday   \n",
            "1651  ff3a22ff-521c-478c-87ca-7dc7b8f34372    twitter  3 - Wednesday   \n",
            "1652  ff3af0d6-b092-4c4d-9f2e-2bdd8f7c0732     google     1 - Monday   \n",
            "1653  ffdfe7ec-0c74-4623-8d90-d95d80f1ba34   facebook   6 - Saturday   \n",
            "\n",
            "     ad_click_timestamp experimental_group  is_click  \n",
            "0                  7:18                  A      True  \n",
            "1                   NaN                  B     False  \n",
            "2                   NaN                  A     False  \n",
            "3                   NaN                  B     False  \n",
            "4                   NaN                  B     False  \n",
            "...                 ...                ...       ...  \n",
            "1649                NaN                  A     False  \n",
            "1650                NaN                  B     False  \n",
            "1651                NaN                  B     False  \n",
            "1652              22:57                  A      True  \n",
            "1653                NaN                  B     False  \n",
            "\n",
            "[1654 rows x 6 columns]\n",
            "  utm_source  is_click  user_id\n",
            "0      email     False      175\n",
            "1      email      True       80\n",
            "2   facebook     False      324\n",
            "3   facebook      True      180\n",
            "4     google     False      441\n",
            "5     google      True      239\n",
            "6    twitter     False      149\n",
            "7    twitter      True       66\n",
            "is_click utm_source  False  True  percent_clicked\n",
            "0             email    175    80         0.313725\n",
            "1          facebook    324   180         0.357143\n",
            "2            google    441   239         0.351471\n",
            "3           twitter    149    66         0.306977\n",
            "  experimental_group  user_id\n",
            "0                  A      827\n",
            "1                  B      827\n",
            "is_click experimental_group  False  True\n",
            "0                         A    517   310\n",
            "1                         B    572   255\n",
            "is_click            day  False  True  percent_clicked\n",
            "0            1 - Monday     70    43         0.380531\n",
            "1           2 - Tuesday     76    43         0.361345\n",
            "2         3 - Wednesday     86    38         0.306452\n",
            "3          4 - Thursday     69    47         0.405172\n",
            "4            5 - Friday     77    51         0.398438\n",
            "5          6 - Saturday     73    45         0.381356\n",
            "6            7 - Sunday     66    43         0.394495\n",
            "is_click            day  False  True  percent_clicked\n",
            "0            1 - Monday     81    32         0.283186\n",
            "1           2 - Tuesday     74    45         0.378151\n",
            "2         3 - Wednesday     89    35         0.282258\n",
            "3          4 - Thursday     87    29         0.250000\n",
            "4            5 - Friday     90    38         0.296875\n",
            "5          6 - Saturday     76    42         0.355932\n",
            "6            7 - Sunday     75    34         0.311927\n"
          ]
        }
      ],
      "source": [
        "import pandas as pd\n",
        "\n",
        "#1\n",
        "ad_clicks = pd.read_csv('ad_clicks.csv')\n",
        "print(ad_clicks.head())\n",
        "\n",
        "#2\n",
        "ad_clicks.groupby('utm_source')\\\n",
        "    .user_id.count()\\\n",
        "    .reset_index()\n",
        "\n",
        "\n",
        "#3\n",
        "ad_clicks['is_click'] = ~ad_clicks\\\n",
        "   .ad_click_timestamp.isnull()\n",
        "print(ad_clicks)\n",
        "\n",
        "#4\n",
        "clicks_by_source = ad_clicks\\\n",
        "   .groupby(['utm_source',\n",
        "             'is_click'])\\\n",
        "   .user_id.count()\\\n",
        "   .reset_index()\n",
        "print(clicks_by_source)\n",
        "\n",
        "#5\n",
        "clicks_pivot = clicks_by_source\\\n",
        "   .pivot(index='utm_source',\n",
        "          columns='is_click',\n",
        "          values='user_id')\\\n",
        "   .reset_index()\n",
        "\n",
        "#6\n",
        "clicks_pivot['percent_clicked'] = \\\n",
        "   clicks_pivot[True] / \\\n",
        "   (clicks_pivot[True] +\n",
        "    clicks_pivot[False])\n",
        "print(clicks_pivot)\n",
        "\n",
        "#7\n",
        "print(ad_clicks.groupby('experimental_group').user_id.count().reset_index())\n",
        "\n",
        "#8\n",
        "print(ad_clicks.groupby(['experimental_group', 'is_click']).user_id.count().reset_index().pivot(index='experimental_group', columns='is_click', values='user_id').reset_index())\n",
        "\n",
        "#9\n",
        "a_clicks = ad_clicks[ad_clicks.experimental_group == 'A']\n",
        "b_clicks = ad_clicks[ad_clicks.experimental_group == 'B']\n",
        "\n",
        "#10\n",
        "a_clicks_pivot = a_clicks.groupby(['is_click', 'day']).user_id.count().reset_index().pivot(index='day', columns='is_click', values='user_id').reset_index()\n",
        "\n",
        "b_clicks_pivot = b_clicks.groupby(['is_click', 'day']).user_id.count().reset_index().pivot(index='day', columns='is_click', values='user_id').reset_index()\n",
        "\n",
        "#11\n",
        "a_clicks_pivot['percent_clicked'] = a_clicks_pivot[True] / (a_clicks_pivot[True] + a_clicks_pivot[False])\n",
        "\n",
        "print(a_clicks_pivot)\n",
        "\n",
        "b_clicks_pivot['percent_clicked'] = b_clicks_pivot[True] / (b_clicks_pivot[True] + b_clicks_pivot[False])\n",
        "\n",
        "print(b_clicks_pivot)"
      ]
    }
  ]
}