{
  "nbformat": 4,
  "nbformat_minor": 0,
  "metadata": {
    "colab": {
      "provenance": [],
      "authorship_tag": "ABX9TyPg5X+EsOjjly5cqU6+c+Ba",
      "include_colab_link": true
    },
    "kernelspec": {
      "name": "python3",
      "display_name": "Python 3"
    },
    "language_info": {
      "name": "python"
    }
  },
  "cells": [
    {
      "cell_type": "markdown",
      "metadata": {
        "id": "view-in-github",
        "colab_type": "text"
      },
      "source": [
        "<a href=\"https://colab.research.google.com/github/DharaniRajDS/Codeacademy-Project/blob/main/Census_Variables.ipynb\" target=\"_parent\"><img src=\"https://colab.research.google.com/assets/colab-badge.svg\" alt=\"Open In Colab\"/></a>"
      ]
    },
    {
      "cell_type": "markdown",
      "source": [
        "### **Census Variables**\n",
        "\n",
        "You have decided to volunteer for your local community by offering to clean their recently collected census data. The description of this dataset is as follows:\n",
        "\n",
        "| Column         | Description                                                                 |\n",
        "|----------------|-----------------------------------------------------------------------------|\n",
        "| first_name     | The respondent’s first name.                                                |\n",
        "| last_name      | The respondent’s last name.                                                 |\n",
        "| birth_year     | The respondent’s year of birth.                                             |\n",
        "| voted          | If the respondent participated in the current voting cycle.                  |\n",
        "| num_children   | The number of children the respondent has.                                  |\n",
        "| income_year    | The average yearly income the respondent earns.                             |\n",
        "| higher_tax     | The respondent’s answer to the question: “Rate your agreement with the statement: the wealthy should pay higher taxes.” |\n",
        "| marital_status | The respondent’s current marital status.                                    |\n"
      ],
      "metadata": {
        "id": "X3IouyGztt3d"
      }
    },
    {
      "cell_type": "code",
      "source": [
        "# Import pandas with alias\n",
        "import pandas as pd"
      ],
      "metadata": {
        "id": "D6Ga5lY6vxDr"
      },
      "execution_count": 1,
      "outputs": []
    },
    {
      "cell_type": "markdown",
      "source": [
        "## **Assessing Variable Types**\n",
        "\n",
        "**1.**The `census` dataframe is composed of simulated census data to represent demographics of a small community in the U.S. Call the `.head()` method on the `census` dataframe and print the output to view the first five rows."
      ],
      "metadata": {
        "id": "-cfuNTa2ttjs"
      }
    },
    {
      "cell_type": "code",
      "source": [
        "# Read in the census dataframe\n",
        "census = pd.read_csv('census_data.csv', index_col=0)\n",
        "print(census.head())"
      ],
      "metadata": {
        "id": "MdGEGigE3pXX"
      },
      "execution_count": null,
      "outputs": []
    },
    {
      "cell_type": "markdown",
      "source": [
        "2.Review the dataframe description and values returned by .head() to assess the variable types of each of the variables. This is an important step to understand what preprocessing will be necessary to work with the data."
      ],
      "metadata": {
        "id": "DSO5Ma87uBoH"
      }
    },
    {
      "cell_type": "markdown",
      "source": [
        "3.Compare the values returned from the .head() method with the data types of each variable by calling .dtypes on the census dataframe and print the result."
      ],
      "metadata": {
        "id": "NeamqTH-ttg6"
      }
    },
    {
      "cell_type": "code",
      "source": [
        "print(census.dtypes)"
      ],
      "metadata": {
        "id": "0UisX1dj3sxL"
      },
      "execution_count": null,
      "outputs": []
    },
    {
      "cell_type": "markdown",
      "source": [
        "## **Inspecting Datatypes**\n",
        "\n",
        "**4.**The manager of the census would like to know the average birth year of the respondents. We were able to see from `.dtypes` that `birth_year` has been assigned the `str` datatype whereas it should be expressed in `int`.\n",
        "\n",
        "Print the unique values of the variable using the `.unique()` method."
      ],
      "metadata": {
        "id": "EWwD9megttW6"
      }
    },
    {
      "cell_type": "code",
      "source": [
        "print(census.birth_year.unique())"
      ],
      "metadata": {
        "id": "vpCsq_QR328o"
      },
      "execution_count": null,
      "outputs": []
    },
    {
      "cell_type": "markdown",
      "source": [
        "## **Altering Data**\n",
        "\n",
        "**5.**There appears to be a missing value in the `birth_year` column. With some research you find that the respondent’s birth year is 1967.\n",
        "\n",
        "Use the `.replace()` method to replace the `missing` value with `1967`, so that the data type can be changed to `int`. Then recheck the values in `birth_year` by calling the `.unique()` method and printing the results."
      ],
      "metadata": {
        "id": "dbeFd3gAttUU"
      }
    },
    {
      "cell_type": "code",
      "source": [
        "census['birth_year'] = census['birth_year'].replace('missing', 1967)\n",
        "print(census.birth_year.unique())"
      ],
      "metadata": {
        "id": "YGkVcAPh4DWZ"
      },
      "execution_count": null,
      "outputs": []
    },
    {
      "cell_type": "markdown",
      "source": [
        "6.Now that we have adjusted the values in the birth_year variable, change the datatype from str to int and print the datatypes of the census dataframe with .dtypes."
      ],
      "metadata": {
        "id": "kKYcMctBttRL"
      }
    },
    {
      "cell_type": "code",
      "source": [
        "census['birth_year'] = census['birth_year'].astype(int)\n",
        "print(census.dtypes)"
      ],
      "metadata": {
        "id": "wxkesXFI4G9e"
      },
      "execution_count": null,
      "outputs": []
    },
    {
      "cell_type": "markdown",
      "source": [
        "7.Having assigned birth_year to the appropriate data type, print the average birth year of the respondents to the census using the pandas .mean() method."
      ],
      "metadata": {
        "id": "n-mWED2yttOU"
      }
    },
    {
      "cell_type": "code",
      "source": [
        "print(census.birth_year.mean())"
      ],
      "metadata": {
        "id": "pJ2YTs8H4LjX"
      },
      "execution_count": null,
      "outputs": []
    },
    {
      "cell_type": "markdown",
      "source": [
        "**8.**Your manager would like to set an order to the `higher_tax` variable so that: `strongly disagree` < `disagree` < `neutral` < `agree` < `strongly agree`.\n",
        "\n",
        "Convert the `higher_tax` variable to the `category` data type with the appropriate order, then print the new order using the `.unique()` method."
      ],
      "metadata": {
        "id": "6bIKeCUVttLd"
      }
    },
    {
      "cell_type": "code",
      "source": [
        "census['higher_tax'] = pd.Categorical(census['higher_tax'],['strongly disagree', 'disagree', 'neutral', 'agree', 'strongly agree'], ordered = True)\n",
        "print(census.higher_tax.unique())"
      ],
      "metadata": {
        "id": "c5YsvumH4Po1"
      },
      "execution_count": null,
      "outputs": []
    },
    {
      "cell_type": "markdown",
      "source": [
        "9.Your manager would also like to know the median sentiment of the respondents on the issue of higher taxes for the wealthy. Label encode the higher_tax variable and print the median using the pandas .median() method."
      ],
      "metadata": {
        "id": "ES2xNx4KttIV"
      }
    },
    {
      "cell_type": "code",
      "source": [
        "census['higher_tax'] = census['higher_tax'].cat.codes\n",
        "print(census.higher_tax.median())"
      ],
      "metadata": {
        "id": "vowvcW2c4WLW"
      },
      "execution_count": null,
      "outputs": []
    },
    {
      "cell_type": "markdown",
      "source": [
        "**10.**Your manager is interested in using machine learning models on the census data in the future. To help, let’s One-Hot Encode `marital_status` to create binary variables of each category. Use the pandas `get_dummies()` method to One-Hot Encode the `marital_status` variable.\n",
        "\n",
        "Print the first five rows of the new dataframe with the `.head()` method. Note that you’ll have to scroll to the right or expand the web-browser to see the dummy variables."
      ],
      "metadata": {
        "id": "y021rg-sttE0"
      }
    },
    {
      "cell_type": "code",
      "source": [
        "print(census.head())"
      ],
      "metadata": {
        "id": "davg-hg04cR8"
      },
      "execution_count": null,
      "outputs": []
    },
    {
      "cell_type": "markdown",
      "source": [
        "**11.**Congratulations! You have used your variable skills to help the census team with managing their data. Feel free to explore the data further. There are additional operations you can perform on the data, such as:\n",
        "\n",
        "- Create a new variable called `marital_codes` by Label Encoding the `marital_status` variable. This could help the Census team use machine learning to predict if a respondent thinks the wealthy should pay higher taxes based on their marital status.\n",
        "- Create a new variable called `age_group`, which groups respondents based on their birth year. The groups should be in five-year increments, e.g., `25-30`, `31-35`, etc. Then label encode the `age_group` variable to assist the Census team in the event they would like to use machine learning to predict if a respondent thinks the wealthy should pay higher taxes based on their age group."
      ],
      "metadata": {
        "id": "mB_b4k9Xtrbe"
      }
    },
    {
      "cell_type": "code",
      "source": [
        "census['marital_status'] = pd.Categorical(census['marital_status'],['single', 'divorced', 'married', 'widowed'], ordered=False)\n",
        "census['marital_status'] = census['marital_status'].cat.codes\n",
        "print(census.head())"
      ],
      "metadata": {
        "id": "bFXGO7c545St"
      },
      "execution_count": null,
      "outputs": []
    },
    {
      "cell_type": "code",
      "source": [
        "# Import pandas with alias\n",
        "import pandas as pd\n",
        "\n",
        "# Read in the census dataframe\n",
        "census = pd.read_csv('census_data.csv', index_col=0)\n",
        "print(census.head())\n",
        "print(census.dtypes)\n",
        "print(census.birth_year.unique())\n",
        "\n",
        "census['birth_year'] = census['birth_year'].replace('missing', 1967)\n",
        "print(census.birth_year.unique())\n",
        "\n",
        "census['birth_year'] = census['birth_year'].astype(int)\n",
        "print(census.dtypes)\n",
        "print(census.birth_year.mean())\n",
        "\n",
        "census['higher_tax'] = pd.Categorical(census['higher_tax'],['strongly disagree', 'disagree', 'neutral', 'agree', 'strongly agree'], ordered = True)\n",
        "print(census.higher_tax.unique())\n",
        "\n",
        "census['higher_tax'] = census['higher_tax'].cat.codes\n",
        "print(census.higher_tax.median())\n",
        "\n",
        "census_1 = pd.get_dummies(census, columns=['marital_status'])\n",
        "print(census_1.head())\n",
        "\n",
        "census['marital_status'] = pd.Categorical(census['marital_status'],['single', 'divorced', 'married', 'widowed'], ordered=False)\n",
        "census['marital_status'] = census['marital_status'].cat.codes\n",
        "print(census.head())\n",
        "\n",
        "bins_1 = [0] + list(range(4, 100, 5))\n",
        "bins = bins_1\n",
        "\n",
        "group_1 = [f\"{i}-{i+4}\" for i in range(0, 100, 5)]\n",
        "groups = group_1\n",
        "\n",
        "import datetime\n",
        "census['age'] = datetime.datetime.today().year - census['birth_year']\n",
        "print(census.head())\n",
        "\n",
        "census['age_group'] = pd.cut(census['age'], bins, labels=groups)\n",
        "print(census.head())"
      ],
      "metadata": {
        "id": "gQDq1yBKtsA2"
      },
      "execution_count": null,
      "outputs": []
    }
  ]
}