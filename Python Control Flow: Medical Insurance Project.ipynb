{
  "nbformat": 4,
  "nbformat_minor": 0,
  "metadata": {
    "colab": {
      "provenance": [],
      "authorship_tag": "ABX9TyMd09DfD8Rgn2IDd0b8P0Jw",
      "include_colab_link": true
    },
    "kernelspec": {
      "name": "python3",
      "display_name": "Python 3"
    },
    "language_info": {
      "name": "python"
    }
  },
  "cells": [
    {
      "cell_type": "markdown",
      "metadata": {
        "id": "view-in-github",
        "colab_type": "text"
      },
      "source": [
        "<a href=\"https://colab.research.google.com/github/DharaniRajDS/Codeacademy-Project/blob/main/Python%20Control%20Flow%3A%20Medical%20Insurance%20Project.ipynb\" target=\"_parent\"><img src=\"https://colab.research.google.com/assets/colab-badge.svg\" alt=\"Open In Colab\"/></a>"
      ]
    },
    {
      "cell_type": "markdown",
      "source": [
        "### **Python Control Flow: Medical Insurance Project**\n",
        "\n",
        "In this project, you will examine how factors such as age, sex, number of children, and smoking status contribute to medical insurance costs.\n",
        "\n",
        "You will apply your knowledge of Python control flow to write code that gives people advice on how to lower their medical insurance costs.\n",
        "\n",
        "Let’s get started!\n",
        "\n",
        "\n"
      ],
      "metadata": {
        "id": "YUzJ5kPvDF9w"
      }
    },
    {
      "cell_type": "markdown",
      "source": [
        "## **Intro to Control Flow**\n",
        "\n",
        "**1.**First, take a look at the code in **script.py**.\n",
        "\n",
        "The function `estimate_insurance_cost()` estimates the medical insurance cost for an individual, based on four variables:\n",
        "\n",
        "- `age`: age of the individual in years\n",
        "- `sex`: 0 for female, 1 if male\n",
        "- `num_of_children`: number of children the individual has\n",
        "- `smoker`: 0 for a non-smoker, 1 for a smoker\n",
        "\n",
        "These variables are used in the following formula to estimate an individual’s insurance cost:"
      ],
      "metadata": {
        "id": "1kCF9AIyDwTO"
      }
    },
    {
      "cell_type": "code",
      "execution_count": 1,
      "metadata": {
        "id": "srsfDeU0DC7P"
      },
      "outputs": [],
      "source": [
        "# insurance_cost=400 * age - 128 * sex + 425 * num_of_children + 10000 * smoker - 2500"
      ]
    },
    {
      "cell_type": "markdown",
      "source": [
        "**2.**Currently, our function prints out the estimated insurance cost based on the values passed into the function. But it doesn’t do much beyond that.\n",
        "\n",
        "It would be much more helpful if our function could provide more insight into how we can lower our insurance cost. We’ll learn to do exactly that by using control flow – `if`, `elif`, and `else` statements – in our code.\n",
        "\n",
        "When you’re ready, move on to the next step.\n",
        "\n",
        "**Hint**\n",
        "\n",
        "Here is a quick review on control flow if you need a reminder:\n",
        "\n",
        "- `if` statements can be used to create control flow in your code.\n",
        "- `else` statements can be used to execute code when the conditions of an if statement are not met.\n",
        "- `elif` statements can be used to build additional checks into your if statements.\n"
      ],
      "metadata": {
        "id": "u8Jg1C1BDpUw"
      }
    },
    {
      "cell_type": "markdown",
      "source": [
        "## **Analyzing Smoker Status**\n",
        "\n",
        "**3.**In general, insurance costs are higher for smokers. We can use data from the `smoker` variable to provide advice on how to lower insurance costs.\n",
        "\n",
        "Let’s create a function that analyzes an individual’s smoking status.\n",
        "\n",
        "At the top of your code, define a function called `analyze_smoker()` that takes an input `smoker_status`. For now, the function should print `smoker_status`.\n",
        "\n"
      ],
      "metadata": {
        "id": "bFxutMEzD6V5"
      }
    },
    {
      "cell_type": "markdown",
      "source": [
        "**4.**Inside of the `analyze_smoker()` function, replace the print statement you wrote in the previous step with an `if/else` statement that does the following:\n",
        "\n",
        "- If `smoker_status` is equal to `1`, print `\"To lower your cost, you should consider quitting smoking.\"`\n",
        "- Otherwise, print `\"Smoking is not an issue for you.\"`\n",
        "\n"
      ],
      "metadata": {
        "id": "SyOUzo0QD98C"
      }
    },
    {
      "cell_type": "code",
      "source": [
        "# from 3 & 4\n",
        "def analyze_smoker(smoker_status):\n",
        "  if smoker_status == 1:\n",
        "    print(\"To lower your cost, you should consider quitting smoking.\")\n",
        "  else:\n",
        "    print(\"Smoking is not an issue for you.\")"
      ],
      "metadata": {
        "id": "M0L73fuODqA9"
      },
      "execution_count": 2,
      "outputs": []
    },
    {
      "cell_type": "markdown",
      "source": [
        "**5.**Now that we’ve written the `analyze_smoker()` function, let’s make use of it.\n",
        "\n",
        "In the `estimate_insurance_cost()` function, go to the line of code that prints the estimated insurance cost. On the next line, make a function call to `analyze_smoker()`, passing in the `smoker` variable as an argument.\n",
        "\n",
        "Click “Save” to see the result.\n",
        "\n"
      ],
      "metadata": {
        "id": "6gGasulsECfB"
      }
    },
    {
      "cell_type": "code",
      "source": [
        "# Function to estimate insurance cost:\n",
        "def estimate_insurance_cost(name, age, sex, num_of_children, smoker):\n",
        "  estimated_cost =400*age -128*sex +425*num_of_children +10000*smoker -2500\n",
        "  print(name +\"'s Estimated Insurance Cost: \" +str(estimated_cost) +\" dollars.\")\n",
        "  analyze_smoker(smoker)\n",
        "  return estimated_cost"
      ],
      "metadata": {
        "id": "uhmQM1o1EDpe"
      },
      "execution_count": 3,
      "outputs": []
    },
    {
      "cell_type": "markdown",
      "source": [
        "## **Analyze your own insurance cost**\n",
        "\n",
        "**6.**Now that we’ve estimated and analyzed Keanu’s insurance cost, let’s see if we can do the same for our own!\n",
        "\n",
        "At the bottom of your code, create a new insurance cost variable for yourself, similar to how we did it for Keanu.\n",
        "\n",
        "Set the variable equal to a function call to `estimate_insurance_cost()`, passing in your own age, sex, number of children, and smoker status.\n",
        "\n",
        "Click “Save” to see the result. Do you see any ways that you can potentially lower your insurance cost?\n",
        "\n"
      ],
      "metadata": {
        "id": "GJd-o-VyEG3b"
      }
    },
    {
      "cell_type": "code",
      "source": [
        "my_insurance_cost = estimate_insurance_cost(name = 'Dharani Raj', age = 25, sex = 1, num_of_children = 0, smoker = 0)"
      ],
      "metadata": {
        "colab": {
          "base_uri": "https://localhost:8080/"
        },
        "id": "IqgGvfq7EIKs",
        "outputId": "59b3f8c0-1e47-40e6-fd1c-c7b71672ce14"
      },
      "execution_count": 4,
      "outputs": [
        {
          "output_type": "stream",
          "name": "stdout",
          "text": [
            "Dharani Raj's Estimated Insurance Cost: 7372 dollars.\n",
            "Smoking is not an issue for you.\n"
          ]
        }
      ]
    },
    {
      "cell_type": "markdown",
      "source": [
        "## **Extra**\n",
        "\n",
        "**7.**Great job! In this project, you used control flow in your code – using `if`, `elif`, and `else` statements – to provide advice on how individuals can lower their medical insurance costs.\n",
        "\n",
        "As a data scientist, it’s important to have an understanding of control flow as you’ll eventually work with and build complex decision tree algorithms. You are now better equipped to move forward in your data science journey!\n",
        "\n",
        "If you’d like additional practice on control flow, feel free to experiment with ways you might extend this project!\n",
        "\n",
        "Happy coding!"
      ],
      "metadata": {
        "id": "IkVGWiYbEKs8"
      }
    },
    {
      "cell_type": "code",
      "source": [
        "# Add your code here\n",
        "def analyze_smoker(smoker_status):\n",
        "  if smoker_status == 1:\n",
        "    print(\"To lower your cost, you should consider quitting smoking.\")\n",
        "  else:\n",
        "    print(\"Smoking is not an issue for you.\")\n",
        "\n",
        "# Function to estimate insurance cost:\n",
        "def estimate_insurance_cost(name, age, sex, num_of_children, smoker):\n",
        "  estimated_cost = 400*age - 128*sex + 425*num_of_children + 10000*smoker - 2500\n",
        "  print(name + \"'s Estimated Insurance Cost: \" + str(estimated_cost) + \" dollars.\")\n",
        "  analyze_smoker(smoker)\n",
        "  return estimated_cost\n",
        "\n",
        "# Estimate Keanu's insurance cost\n",
        "keanu_insurance_cost = estimate_insurance_cost(name = 'Keanu', age = 29, sex = 1, num_of_children = 3, smoker = 1)\n",
        "\n",
        "# Estimate my(Dj) insurance cost\n",
        "my_insurance_cost = estimate_insurance_cost(name = 'Dj', age = 25, sex = 1, num_of_children = 0, smoker = 0)"
      ],
      "metadata": {
        "colab": {
          "base_uri": "https://localhost:8080/"
        },
        "id": "RapoDkCIEL_f",
        "outputId": "774ea4cb-681c-4af6-a7a7-e74d4d97beb3"
      },
      "execution_count": 5,
      "outputs": [
        {
          "output_type": "stream",
          "name": "stdout",
          "text": [
            "Keanu's Estimated Insurance Cost: 20247 dollars.\n",
            "To lower your cost, you should consider quitting smoking.\n",
            "Dj's Estimated Insurance Cost: 7372 dollars.\n",
            "Smoking is not an issue for you.\n"
          ]
        }
      ]
    },
    {
      "cell_type": "code",
      "source": [],
      "metadata": {
        "id": "a4oyLBqoGjA5"
      },
      "execution_count": 5,
      "outputs": []
    }
  ]
}