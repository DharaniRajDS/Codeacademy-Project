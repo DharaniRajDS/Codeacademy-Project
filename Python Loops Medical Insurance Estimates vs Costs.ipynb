{
 "cells": [
  {
   "cell_type": "markdown",
   "id": "028691cf",
   "metadata": {},
   "source": [
    "# Python Loops: Medical Insurance Estimates vs. Costs Project"
   ]
  },
  {
   "cell_type": "markdown",
   "id": "454e3702",
   "metadata": {},
   "source": [
    "You are interested in analyzing medical insurance cost data efficiently without writing repetitive code.\n",
    "\n",
    "In this project, you will use your new knowledge of Python loops to iterate through and analyze medical insurance cost data.\n",
    "\n",
    "Let's get started!"
   ]
  },
  {
   "cell_type": "markdown",
   "id": "acdfb0d1",
   "metadata": {},
   "source": [
    "## Creating a For Loop"
   ]
  },
  {
   "cell_type": "markdown",
   "id": "2c6cc370",
   "metadata": {},
   "source": [
    "1. First, let's take a look at three lists in the code block below:\n",
    "   - `names` stores the names of seven individuals.\n",
    "   - `estimated_insurance_costs` stores the estimated medical insurance costs for the individuals.\n",
    "   - `actual_insurance_costs` stores the actual insurance costs paid by the individuals.\n",
    "   \n",
    "   We want to calculate the average insurance cost each person paid. We'll start by adding up all of the insurance costs.\n",
    "   \n",
    "   Create a variable `total_cost` and initialize it to `0`."
   ]
  },
  {
   "cell_type": "code",
   "execution_count": 1,
   "id": "b395f91d",
   "metadata": {},
   "outputs": [],
   "source": [
    "names = [\"Judith\", \"Abel\", \"Tyson\", \"Martha\", \"Beverley\", \"David\", \"Anabel\"]\n",
    "estimated_insurance_costs = [1000.0, 2000.0, 3000.0, 4000.0, 5000.0, 6000.0, 7000.0]\n",
    "actual_insurance_costs = [1100.0, 2200.0, 3300.0, 4400.0, 5500.0, 6600.0, 7700.0]\n",
    "\n",
    "total_cost = 0"
   ]
  },
  {
   "cell_type": "markdown",
   "id": "2dba5b1f",
   "metadata": {},
   "source": [
    "2. Use a `for` loop to iterate through `actual_insurance_costs` and add each insurance cost to the variable `total_cost`."
   ]
  },
  {
   "cell_type": "code",
   "execution_count": 2,
   "id": "75e90860",
   "metadata": {},
   "outputs": [],
   "source": [
    "for insurance_cost in actual_insurance_costs:\n",
    "    total_cost += insurance_cost"
   ]
  },
  {
   "cell_type": "markdown",
   "id": "644c7f08",
   "metadata": {},
   "source": [
    "3. After the `for` loop, create a variable called `average_cost` that stores the `total_cost` divided by the length of the `actual_insurance_costs` list."
   ]
  },
  {
   "cell_type": "code",
   "execution_count": 3,
   "id": "f7855472",
   "metadata": {},
   "outputs": [],
   "source": [
    "average_cost = total_cost/len(actual_insurance_costs)"
   ]
  },
  {
   "cell_type": "markdown",
   "id": "895683a9",
   "metadata": {},
   "source": [
    "4. Print `average_cost` with the following message:\n",
    "\n",
    "   ```\n",
    "   Average Insurance Cost: <average_cost> dollars.\n",
    "   ```"
   ]
  },
  {
   "cell_type": "code",
   "execution_count": 4,
   "id": "57d36dde",
   "metadata": {},
   "outputs": [
    {
     "name": "stdout",
     "output_type": "stream",
     "text": [
      "Average Insurance Cost: 4400.0 dollars.\n"
     ]
    }
   ],
   "source": [
    "print(\"Average Insurance Cost: \" + str(average_cost) + \" dollars.\")"
   ]
  },
  {
   "cell_type": "markdown",
   "id": "8181e6a9",
   "metadata": {},
   "source": [
    "## Using Range in Loops"
   ]
  },
  {
   "cell_type": "markdown",
   "id": "b79b51b3",
   "metadata": {},
   "source": [
    "5. For each individual in `names`, we want to determine whether their insurance cost is above or below average.\n",
    "\n",
    "   Write a `for` loop with variable `i` that goes from `0` to `len(names)`.\n",
    "   \n",
    "\n",
    "   \n",
    "6. Inside of the `for` loop, do the following:\n",
    "   - Create a variable `name`, which stores `names[i]`.\n",
    "   - Create a variable `insurance_cost`, which stores `actual_insurance_costs[i]`.\n",
    "   - Print out the insurance cost for each individual, with the following message:\n",
    "   ```\n",
    "   The insurance cost for <name> is <insurance_cost> dollars.\n",
    "   ```"
   ]
  },
  {
   "cell_type": "code",
   "execution_count": 6,
   "id": "1767ba6d",
   "metadata": {},
   "outputs": [
    {
     "name": "stdout",
     "output_type": "stream",
     "text": [
      "The insurance cost for Judith is 1100.0 dollars.\n",
      "The insurance cost for Abel is 2200.0 dollars.\n",
      "The insurance cost for Tyson is 3300.0 dollars.\n",
      "The insurance cost for Martha is 4400.0 dollars.\n",
      "The insurance cost for Beverley is 5500.0 dollars.\n",
      "The insurance cost for David is 6600.0 dollars.\n",
      "The insurance cost for Anabel is 7700.0 dollars.\n"
     ]
    }
   ],
   "source": [
    "for i in range(len(names)):\n",
    "    name = names[i]\n",
    "    insurance_cost = actual_insurance_costs[i]\n",
    "    print(\"The insurance cost for \" + name + \" is \" + str(insurance_cost) + \" dollars.\")"
   ]
  },
  {
   "cell_type": "markdown",
   "id": "252468b0",
   "metadata": {},
   "source": [
    "7. Observe the result above.\n",
    "\n",
    "   You should see the insurance costs for each of the seven individuals in `names`. The `for` loop iterated through the entire list and printed out the insurance cost for each individual."
   ]
  },
  {
   "cell_type": "markdown",
   "id": "35ce4874",
   "metadata": {},
   "source": [
    "## Conditions inside a Loop"
   ]
  },
  {
   "cell_type": "markdown",
   "id": "f0ef16f1",
   "metadata": {},
   "source": [
    "8. Inside of the `for` loop, use `if`, `elif`, `else` statements after the `print` statement to check whether the insurance cost is above, below, or equal to the average. Print out messages for each case:\n",
    "   - When `insurance_cost` is higher than the average, print out the following:\n",
    "   ```\n",
    "   The insurance cost for <name> is above average.\n",
    "   ```\n",
    "   - When `insurance_cost` is lower than the average, print out the following:\n",
    "   ```\n",
    "   The insurance cost for <name> is below average.\n",
    "   ```\n",
    "   - Otherwise, print out the following:\n",
    "   ```\n",
    "   The insurance cost for <name> is equal to the average.\n",
    "   ```"
   ]
  },
  {
   "cell_type": "code",
   "execution_count": 7,
   "id": "ee55ad70",
   "metadata": {},
   "outputs": [
    {
     "name": "stdout",
     "output_type": "stream",
     "text": [
      "The insurance cost for Judith is 1100.0 dollars.\n",
      "The insurance cost for Judith is below average.\n",
      "The insurance cost for Abel is 2200.0 dollars.\n",
      "The insurance cost for Abel is below average.\n",
      "The insurance cost for Tyson is 3300.0 dollars.\n",
      "The insurance cost for Tyson is below average.\n",
      "The insurance cost for Martha is 4400.0 dollars.\n",
      "The insurance cost for Martha is equal to the average.\n",
      "The insurance cost for Beverley is 5500.0 dollars.\n",
      "The insurance cost for Beverley is above average.\n",
      "The insurance cost for David is 6600.0 dollars.\n",
      "The insurance cost for David is above average.\n",
      "The insurance cost for Anabel is 7700.0 dollars.\n",
      "The insurance cost for Anabel is above average.\n"
     ]
    }
   ],
   "source": [
    "for i in range(len(names)):\n",
    "    name = names[i]\n",
    "    insurance_cost = actual_insurance_costs[i]\n",
    "    print(\"The insurance cost for \" + name + \" is \" + str(insurance_cost) + \" dollars.\")\n",
    "    if insurance_cost > average_cost:\n",
    "        print(\"The insurance cost for \" + name + \" is above average.\")\n",
    "    elif insurance_cost < average_cost:\n",
    "        print(\"The insurance cost for \" + name + \" is below average.\")\n",
    "    else:\n",
    "        print(\"The insurance cost for \" + name + \" is equal to the average.\")"
   ]
  },
  {
   "cell_type": "markdown",
   "id": "69e15f1d",
   "metadata": {},
   "source": [
    "9. Observe the output above.\n",
    "\n",
    "   You should see messages indicating the insurance cost for each of the seven individuals and where their insurance cost stands relative to the average."
   ]
  },
  {
   "cell_type": "markdown",
   "id": "75c1a0f9",
   "metadata": {},
   "source": [
    "## Creating a List Comprehension"
   ]
  },
  {
   "cell_type": "markdown",
   "id": "bd7e0d1b",
   "metadata": {},
   "source": [
    "10. If you look closely at `actual_insurance_costs` and `estimated_insurance_costs`, you will notice that each of the actual insurance costs is 10% higher than the estimated insurance costs.\n",
    " \n",
    "    Using a list comprehension, create a new list called `updated_estimated_costs`, which has each element in `estimated_insurance_costs` multiplied by `11/10`."
   ]
  },
  {
   "cell_type": "code",
   "execution_count": 8,
   "id": "c1757114",
   "metadata": {},
   "outputs": [],
   "source": [
    "updated_estimated_costs = [estimated_cost * 11/10 for estimated_cost in estimated_insurance_costs]"
   ]
  },
  {
   "cell_type": "markdown",
   "id": "38f58e5d",
   "metadata": {},
   "source": [
    "11. Print `updated_estimated_costs`.\n",
    "\n",
    "    You should see that the list now looks the same as `actual_insurance_costs`."
   ]
  },
  {
   "cell_type": "code",
   "execution_count": 9,
   "id": "babb0218",
   "metadata": {},
   "outputs": [
    {
     "name": "stdout",
     "output_type": "stream",
     "text": [
      "[1100.0, 2200.0, 3300.0, 4400.0, 5500.0, 6600.0, 7700.0]\n"
     ]
    }
   ],
   "source": [
    "print(updated_estimated_costs)"
   ]
  },
  {
   "cell_type": "markdown",
   "id": "c0a9ec56",
   "metadata": {},
   "source": [
    "## Extra"
   ]
  },
  {
   "cell_type": "markdown",
   "id": "c1f0e9f8",
   "metadata": {},
   "source": [
    "12. Congratulations! In this project, you used Python loops to iterate through and analyze medical insurance cost data.\n",
    "\n",
    "    As a data scientist, you want to be able to easily and efficiently go through data and perform analysis on that data without having to write repetitive code. Loops are a great place to start.\n",
    "    \n",
    "    If you'd like extra practice with Python loops, here are some suggestions to get you started:\n",
    "    - Convert the first `for` loop in the code to a `while` loop.\n",
    "    - Modify the second `for` loop so that it also calculates how far above or below the average estimated insurance cost is.\n",
    "    \n",
    "    Happy coding!"
   ]
  },
  {
   "cell_type": "code",
   "execution_count": 2,
   "id": "3ed0106d",
   "metadata": {},
   "outputs": [
    {
     "name": "stdout",
     "output_type": "stream",
     "text": [
      "Total estimated insurance cost: 28000.0\n"
     ]
    }
   ],
   "source": [
    "names = [\"Judith\", \"Abel\", \"Tyson\", \"Martha\", \"Beverley\", \"David\", \"Anabel\"]\n",
    "estimated_insurance_costs = [1000.0, 2000.0, 3000.0, 4000.0, 5000.0, 6000.0, 7000.0]\n",
    "actual_insurance_costs = [1100.0, 2200.0, 3300.0, 4400.0, 5500.0, 6600.0, 7700.0]\n",
    "\n",
    "total_cost = 0\n",
    "i = 0\n",
    "\n",
    "while i < len(estimated_insurance_costs):\n",
    "    total_cost += estimated_insurance_costs[i]\n",
    "    i += 1\n",
    "\n",
    "print(\"Total estimated insurance cost:\", total_cost)"
   ]
  },
  {
   "cell_type": "code",
   "execution_count": 4,
   "id": "a6cfdc48",
   "metadata": {},
   "outputs": [
    {
     "name": "stdout",
     "output_type": "stream",
     "text": [
      "The insurance cost for Judith is 1100.0 dollars, which is 2900.0 dollars below the average estimated cost.\n",
      "The insurance cost for Abel is 2200.0 dollars, which is 1800.0 dollars below the average estimated cost.\n",
      "The insurance cost for Tyson is 3300.0 dollars, which is 700.0 dollars below the average estimated cost.\n",
      "The insurance cost for Martha is 4400.0 dollars, which is 400.0 dollars above the average estimated cost.\n",
      "The insurance cost for Beverley is 5500.0 dollars, which is 1500.0 dollars above the average estimated cost.\n",
      "The insurance cost for David is 6600.0 dollars, which is 2600.0 dollars above the average estimated cost.\n",
      "The insurance cost for Anabel is 7700.0 dollars, which is 3700.0 dollars above the average estimated cost.\n"
     ]
    }
   ],
   "source": [
    "average_estimated_cost = 4000.0  # Calculated as sum(estimated_insurance_costs) / len(estimated_insurance_costs)\n",
    "\n",
    "for i in range(len(names)):\n",
    "    name = names[i]\n",
    "    insurance_cost = actual_insurance_costs[i]\n",
    "    difference = insurance_cost - average_estimated_cost\n",
    "    if difference > 0:\n",
    "        print(f\"The insurance cost for {name} is {insurance_cost} dollars, which is {difference} dollars above the average estimated cost.\")\n",
    "    elif difference < 0:\n",
    "        print(f\"The insurance cost for {name} is {insurance_cost} dollars, which is {-difference} dollars below the average estimated cost.\")\n",
    "    else:\n",
    "        print(f\"The insurance cost for {name} is {insurance_cost} dollars, which is exactly the average estimated cost.\")"
   ]
  },
  {
   "cell_type": "code",
   "execution_count": null,
   "id": "dbb95bc4-cc50-4c51-b0ff-47fb831de998",
   "metadata": {},
   "outputs": [],
   "source": []
  }
 ],
 "metadata": {
  "kernelspec": {
   "display_name": "Python 3 (ipykernel)",
   "language": "python",
   "name": "python3"
  },
  "language_info": {
   "codemirror_mode": {
    "name": "ipython",
    "version": 3
   },
   "file_extension": ".py",
   "mimetype": "text/x-python",
   "name": "python",
   "nbconvert_exporter": "python",
   "pygments_lexer": "ipython3",
   "version": "3.12.4"
  }
 },
 "nbformat": 4,
 "nbformat_minor": 5
}
